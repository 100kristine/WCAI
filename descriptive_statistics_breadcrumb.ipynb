{
 "metadata": {
  "name": "",
  "signature": "sha256:8c417e587f3c83a4615f7787354618a291365aaa673210c92285582da5fc8f08"
 },
 "nbformat": 3,
 "nbformat_minor": 0,
 "worksheets": [
  {
   "cells": [
    {
     "cell_type": "code",
     "collapsed": false,
     "input": [
      "from collections import defaultdict,Counter\n",
      "import matplotlib.pyplot as plt\n",
      "import numpy as np\n",
      "import seaborn as sns"
     ],
     "language": "python",
     "metadata": {},
     "outputs": [],
     "prompt_number": 1
    },
    {
     "cell_type": "code",
     "collapsed": false,
     "input": [
      "%run 'reusableFunctions.ipynb'"
     ],
     "language": "python",
     "metadata": {},
     "outputs": [],
     "prompt_number": 2
    },
    {
     "cell_type": "markdown",
     "metadata": {},
     "source": [
      "##Items from Breadcrumb lines"
     ]
    },
    {
     "cell_type": "code",
     "collapsed": false,
     "input": [
      "def getId_Check(line):\n",
      "    return line[1]\n",
      "   \n",
      "def getBreadcrumb(line):\n",
      "    return line[4]\n",
      "\n",
      "def getHigherCat(line):\n",
      "    return line[5]"
     ],
     "language": "python",
     "metadata": {},
     "outputs": [],
     "prompt_number": 3
    },
    {
     "cell_type": "markdown",
     "metadata": {},
     "source": [
      "## Collect breadcrumb counts from check/out files"
     ]
    },
    {
     "cell_type": "code",
     "collapsed": false,
     "input": [
      "def checkBreadcrumb(breadcrumb,ID,id_mapping):\n",
      "    return breadcrumb == id_mapping[ID]\n",
      "\n",
      "\n",
      "\n",
      "#ids = set of unique ids in check/out files\n",
      "#Mapping = {product_id:}\n",
      "#Breadcrumb_count = {id: [breadcrumb1, breadcrumb2, breadcrumb3... duplicates]}\n",
      "ids,mapping,breadcrumb_count = filterProducts()"
     ],
     "language": "python",
     "metadata": {},
     "outputs": [
      {
       "output_type": "stream",
       "stream": "stdout",
       "text": [
        "Total Lines: 115790\n",
        "Total Ids, no duplicates: 49784\n",
        "Total duplicated ids: 66006\n",
        "Duplicated ids, same breadcrumb: 20331\n",
        "Duplicated ids, removed: 45675\n"
       ]
      }
     ],
     "prompt_number": 8
    },
    {
     "cell_type": "code",
     "collapsed": false,
     "input": [],
     "language": "python",
     "metadata": {},
     "outputs": [],
     "prompt_number": 8
    },
    {
     "cell_type": "markdown",
     "metadata": {},
     "source": [
      "## Get purchase counts of products"
     ]
    },
    {
     "cell_type": "code",
     "collapsed": false,
     "input": [
      "def compare_breadcrumb_product(breadcrumb_count):\n",
      "    #ids = all product ids that appear in breadcrumb file\n",
      "    p = load_product(pdef,consolidate=False,skip=False)\n",
      "    product_ids = set(p.keys())\n",
      "    breadcrumb_ids = set(breadcrumb_count.keys())\n",
      "    print \"IDs with breadcrumbs %s\" % len(breadcrumb_ids & product_ids)\n",
      "    print \"Total product ids %s\" % len(product_ids)\n",
      "    print \"Total bc ids %s\" % len(breadcrumb_ids)\n",
      "    #return product_ids,no_breadcrumb, breadcrumb\n",
      "    return product_ids,product_ids - breadcrumb_ids,breadcrumb_ids"
     ],
     "language": "python",
     "metadata": {},
     "outputs": [],
     "prompt_number": 13
    },
    {
     "cell_type": "code",
     "collapsed": false,
     "input": [
      "def getPurchaseFrequency(no_bc,f=all_purchases,directory=d):\n",
      "    baskets = getMarketBasketDct(directory,f,byDate=False,noTime=True)\n",
      "    counts = defaultdict()\n",
      "    purchase_frequency_nobc = Counter()\n",
      "    purchase_frequency_bc = Counter()\n",
      "    purchase_frequency = Counter()\n",
      "    for household in baskets:\n",
      "        for item in baskets[household]:\n",
      "            if item in no_bc:\n",
      "                purchase_frequency_nobc[item] += 1\n",
      "            else:\n",
      "                purchase_frequency_bc[item] += 1\n",
      "            purchase_frequency[item] +=1\n",
      "    return purchase_frequency,purchase_frequency_nobc,purchase_frequency_bc\n",
      "\n",
      "# {item_id: purchase frequency}\n",
      "#purchase_frequency,purchase_frequency_nobc,purchase_frequency_bc = getPurchaseFrequency(set(no_bc))"
     ],
     "language": "python",
     "metadata": {},
     "outputs": [],
     "prompt_number": 30
    },
    {
     "cell_type": "code",
     "collapsed": false,
     "input": [
      "def breadcrumbs_statistics(purchase_frequency,no_bc,bc_ids):\n",
      "    no_bc_x,no_bc_y,bc_x,bc_y = [],[],[],[]\n",
      "    for item in purchase_frequency.keys():\n",
      "        if item in no_bc:\n",
      "            no_bc_x.append(item)\n",
      "            no_bc_y.append(purchase_frequency[item])\n",
      "        else:\n",
      "            bc_x.append(item)\n",
      "            bc_y.append(purchase_frequency[item])\n",
      "    return no_bc_x,no_bc_y,bc_x,bc_y #ids without breadcrumb, counts of ids without breadcrumb etc"
     ],
     "language": "python",
     "metadata": {},
     "outputs": [],
     "prompt_number": 31
    },
    {
     "cell_type": "code",
     "collapsed": false,
     "input": [
      "def create_bc_freq_doc(purchase_frequency_nobc,pnames):\n",
      "    with open('products_without_breadcrumbs_purchaseFreq.txt','w') as f:\n",
      "        for key in purchase_frequency_nobc.keys():\n",
      "            if key != 'item_id':\n",
      "                f.writelines(\"\\t\".join([key,str(pnames[key][0]),str(purchase_frequency_nobc[key]),\"\\n\"]))\n",
      "    return\n",
      "#create_bc_freq_doc(purchase_frequency_bc,pnames)"
     ],
     "language": "python",
     "metadata": {},
     "outputs": [],
     "prompt_number": 47
    },
    {
     "cell_type": "code",
     "collapsed": false,
     "input": [
      "#no_bc_x,no_bc_y,bc_x,bc_y = breadcrumbs_statistics(purchase_frequency,no_bc,bc_ids)"
     ],
     "language": "python",
     "metadata": {},
     "outputs": [],
     "prompt_number": 32
    },
    {
     "cell_type": "code",
     "collapsed": false,
     "input": [
      "#pnames = load_product(pdef,consolidate=False,skip=False)\n",
      "#p_ids,no_bc,bc_ids = compare_breadcrumb_product(breadcrumb_count)\n"
     ],
     "language": "python",
     "metadata": {},
     "outputs": [
      {
       "output_type": "stream",
       "stream": "stdout",
       "text": [
        "IDs with breadcrumbs 49784\n",
        "Total product ids 111916\n",
        "Total bc ids 49784\n"
       ]
      }
     ],
     "prompt_number": 33
    },
    {
     "cell_type": "code",
     "collapsed": false,
     "input": [
      "#no_bc_count = sum([purchase_frequency_nobc[key] for key in purchase_frequency_nobc.keys()]) #total purchases of items without breadcrumb\n",
      "#bc_count = sum([purchase_frequency_bc[key] for key in purchase_frequency_bc.keys()]) #total purchases of items withbreadcrumb\n",
      "#pf = sum([purchase_frequency[key] for key in purchase_frequency]) #total purchases of all items"
     ],
     "language": "python",
     "metadata": {},
     "outputs": [],
     "prompt_number": 34
    },
    {
     "cell_type": "code",
     "collapsed": false,
     "input": [
      "#breadcrumb_count_unique = {key:len(set(breadcrumb_count[key])) for key in breadcrumb_count.keys()} #{product id: # of unique breadcrumbs mapped to id}"
     ],
     "language": "python",
     "metadata": {},
     "outputs": [],
     "prompt_number": 35
    },
    {
     "cell_type": "code",
     "collapsed": false,
     "input": [
      "\"\"\"\n",
      "f = open('multiplebreadcrumbs.txt','w')\n",
      "for key in breadcrumb_count.keys():\n",
      "    breadcrumbs = list(set(breadcrumb_count[key]))\n",
      "    if len(breadcrumbs)>1:\n",
      "        f.writelines(\"\\t\".join([str(key),pnames[key][0],str(purchase_frequency[key]),str(len(breadcrumbs)),\"||\".join([i.strip('\\n') for i in breadcrumbs])])+\"\\n\")\n",
      "\"\"\""
     ],
     "language": "python",
     "metadata": {},
     "outputs": [
      {
       "metadata": {},
       "output_type": "pyout",
       "prompt_number": 2,
       "text": [
        "'\\nf = open(\\'multiplebreadcrumbs.txt\\',\\'w\\')\\nfor key in breadcrumb_count.keys():\\n    breadcrumbs = list(set(breadcrumb_count[key]))\\n    if len(breadcrumbs)>1:\\n        f.writelines(\"\\t\".join([str(key),pnames[key][0],str(purchase_frequency[key]),str(len(breadcrumbs)),\"||\".join([i.strip(\\'\\n\\') for i in breadcrumbs])])+\"\\n\")\\n'"
       ]
      }
     ],
     "prompt_number": 2
    },
    {
     "cell_type": "code",
     "collapsed": false,
     "input": [
      "\"\"\"\n",
      "c = Counter()\n",
      "df = Counter()\n",
      "mult_bc = defaultdict()\n",
      "for item in breadcrumb_count_unique.keys():\n",
      "    if breadcrumb_count_unique[item] > 1:\n",
      "        c[item] += breadcrumb_count_unique[item]\n",
      "    else:\n",
      "        df[item] += 1\n",
      "    \n",
      "print len(c.keys())\n",
      "print len(df.keys())\n",
      "\"\"\""
     ],
     "language": "python",
     "metadata": {},
     "outputs": [
      {
       "output_type": "stream",
       "stream": "stdout",
       "text": [
        "956\n",
        "48828\n"
       ]
      }
     ],
     "prompt_number": 36
    },
    {
     "cell_type": "code",
     "collapsed": false,
     "input": [
      "\"\"\"\n",
      "unique_bc = set(df.keys())\n",
      "total = 0 \n",
      "for item in purchase_frequency.keys():\n",
      "    if item in unique_bc:\n",
      "        total += purchase_frequency[item]\n",
      "print total\n",
      "\"\"\""
     ],
     "language": "python",
     "metadata": {},
     "outputs": [
      {
       "metadata": {},
       "output_type": "pyout",
       "prompt_number": 3,
       "text": [
        "'\\nunique_bc = set(df.keys())\\ntotal = 0 \\nfor item in purchase_frequency.keys():\\n    if item in unique_bc:\\n        total += purchase_frequency[item]\\nprint total\\n'"
       ]
      }
     ],
     "prompt_number": 3
    },
    {
     "cell_type": "code",
     "collapsed": false,
     "input": [
      "\"\"\"\n",
      "plt.hist([c[key] for key in c.keys()])\n",
      "plt.title(\"Frequency Counts of Items with Multiple Breadcrumbs\")\n",
      "plt.xlabel(\"Number of Unique Breadcrumbs for this Product\")\n",
      "plt.ylabel(\"Number of Product types\")\n",
      "plt.savefig('Breadcrumbcount.png')\n",
      "\"\"\""
     ],
     "language": "python",
     "metadata": {},
     "outputs": [
      {
       "metadata": {},
       "output_type": "pyout",
       "prompt_number": 4,
       "text": [
        "'\\nplt.hist([c[key] for key in c.keys()])\\nplt.title(\"Frequency Counts of Items with Multiple Breadcrumbs\")\\nplt.xlabel(\"Number of Unique Breadcrumbs for this Product\")\\nplt.ylabel(\"Number of Product types\")\\nplt.savefig(\\'Breadcrumbcount.png\\')\\n'"
       ]
      }
     ],
     "prompt_number": 4
    },
    {
     "cell_type": "code",
     "collapsed": false,
     "input": [],
     "language": "python",
     "metadata": {},
     "outputs": [],
     "prompt_number": 80
    },
    {
     "cell_type": "code",
     "collapsed": false,
     "input": [],
     "language": "python",
     "metadata": {},
     "outputs": []
    }
   ],
   "metadata": {}
  }
 ]
}