{
 "metadata": {
  "name": "",
  "signature": "sha256:247456be3be4efc5fa7587a5c29ee818d209c4564db490affb7289fd3ed0b31f"
 },
 "nbformat": 3,
 "nbformat_minor": 0,
 "worksheets": [
  {
   "cells": [
    {
     "cell_type": "code",
     "collapsed": false,
     "input": [
      "from collections import defaultdict\n",
      "import sqlite3\n",
      "%run reusableFunctions.ipynb"
     ],
     "language": "python",
     "metadata": {},
     "outputs": [],
     "prompt_number": 227
    },
    {
     "cell_type": "markdown",
     "metadata": {},
     "source": [
      "## Load household purchase file"
     ]
    },
    {
     "cell_type": "code",
     "collapsed": false,
     "input": [
      "\n",
      "#load all households and reorder into text file, where each line is:\n",
      "#household_id    item1purchase|item2|item3... date_item1_purchased|date_item2_purchased\n",
      "lines = [line.split('|') for line in open('line_item_purchase/KC_only.txt').read().split('\\n')]\n",
      "header = lines[0]\n",
      "lines = lines[1:]"
     ],
     "language": "python",
     "metadata": {},
     "outputs": [],
     "prompt_number": 228
    },
    {
     "cell_type": "markdown",
     "metadata": {},
     "source": [
      "##Create Table and populate: (DO NOT RERUN)\n",
      "DB: itemTable.db\n",
      "table items (key, item_id, date_purchased, hh_id_purchasing,time)"
     ]
    },
    {
     "cell_type": "code",
     "collapsed": false,
     "input": [
      "#primary key = itemid+date+hhid+time\n",
      "#CREATE TABLE IF NOT EXISTS 'items' ('primarykey' varchar, 'id' varchar, 'dates' varchar, 'hhid' varchar,'time' varchar);\n",
      "#Alter table items ADD COLUMN time varchar;\n",
      "#.open itemTable.db\n",
      "#.tables to list tables\n",
      "conn = sqlite3.connect('line_item_purchase/itemTable.db',timeout=1)\n",
      "c = conn.cursor()\n",
      "entries = [[line[8]+line[6]+line[0]+line[7],line[8],line[6],line[0],line[7]] for line in lines if len(line) >8]\n",
      "#c.executemany(\"INSERT INTO 'items' VALUES (?,?,?,?,?)\",entries)\n",
      "#conn.commit()"
     ],
     "language": "python",
     "metadata": {},
     "outputs": [],
     "prompt_number": 15
    },
    {
     "cell_type": "markdown",
     "metadata": {},
     "source": [
      "##Load items and purchase data from database"
     ]
    },
    {
     "cell_type": "code",
     "collapsed": false,
     "input": [
      "def getHouseholdPurchases(conn,bcConvert):\n",
      "    #Returns list of tuples [(u'80482930JUL201243420996708:43:32', u'804829', u'30JUL2012', u'434209967', u'08:43:32')]\n",
      "    \"\"\" >>> obj = getHouseholdPurchases(conn,households[0])\n",
      "    {u'item_id': [u'date', u'householdid', u'time'],\n",
      "    {u'10523': [u'10NOV2012', u'434209967', u'11:06:36'],\n",
      "    \"\"\"\n",
      "    #dct = {}\n",
      "    #for tup in conn.execute(\"SELECT * from items WHERE hhid==\"+hhid).fetchall():\n",
      "    #    dct[tup[1]] = [tup[2],tup[3],tup[4]]\n",
      "    d = defaultdict(lambda :defaultdict())\n",
      "    bcKeys = set(bcConvert.keys())\n",
      "    for tup in conn.execute(\"SELECT * from items\").fetchall():\n",
      "        if tup[1] in bcKeys:\n",
      "            item = bcConvert[tup[1]]\n",
      "            if item in d[tup[3]].keys():\n",
      "                d[tup[3]][item] += [(tup[3],tup[2],tup[4])]\n",
      "            else:\n",
      "                d[tup[3]][item] = [(tup[3],tup[2],tup[4])]\n",
      "    return d\n",
      "\n",
      "#NOT using\n",
      "def createPurchaseDct(households,conn):\n",
      "    \"\"\" >>> dct = createPurchaseDct(households,conn)\n",
      "    \"\"\"\n",
      "    dct = {}\n",
      "    for h in households:\n",
      "        dct[h] = getHouseholdPurchases(conn,h)\n",
      "    return dct\n",
      "\n",
      "def getCountHouseholdPurchases(conn,hhid):\n",
      "    #SLOW replace this\n",
      "    #Get frequency of items purchased by A SINGLE household (not using market baskets)\n",
      "    \"\"\">>> obj = getCountHouseholdPurchases(conn,households[0])\n",
      "        {item_id : purchase_count}\n",
      "        {u'10523': 1,\n",
      "         u'108241': 1,\n",
      "         u'116250': 1,\n",
      "    \"\"\"\n",
      "    dct = {}\n",
      "    for tup in conn.execute(\"SELECT id,COUNT(id) from items WHERE hhid==\"+hhid+\" GROUP BY id\").fetchall():\n",
      "        dct[tup[0]] = tup[1]\n",
      "    return dct\n",
      "\n",
      "#def BreadcrumbConversions(conn):\n",
      "#    \"\"\">>> {u'1 Pole&Circuit Breakers': u'407155'\"\"\"\n",
      "#    dct = {}\n",
      "#    for tup in conn.execute(\"SELECT * from breadcrumb\").fetchall():\n",
      "#        dct[tup[1]] = tup[0]\n",
      "#    return dct\n"
     ],
     "language": "python",
     "metadata": {},
     "outputs": [],
     "prompt_number": 177
    },
    {
     "cell_type": "markdown",
     "metadata": {},
     "source": [
      "## Load household and market basket info"
     ]
    },
    {
     "cell_type": "code",
     "collapsed": false,
     "input": [
      "conn = sqlite3.connect('line_item_purchase/itemTable.db',timeout=1)\n",
      "c = conn.cursor()\n",
      "households = list(set([line[0] for line in lines if len(line[0]) > 1]))\n",
      "#Market basket example: household 1 : {'30JUL2012': [('804829', '08:43:32'), ('625959', '08:43:32'),\n",
      "marketBaskets = getMarketBasketDct(d,f1,byDate=True,noTime=False)\n",
      "ex = marketBaskets.keys()[0]\n",
      "#bcConvert = BreadcrumbConversions(conn)\n",
      "ids,mapping,breadcrumb_count = filterProducts()\n",
      "hasBreadcrumb = set(breadcrumb_count.keys())\n",
      "goodBreadcrumbs = breadcrumbsToKeep(breadcrumb_count) #Replaces one breadcrumb, now can 1 to many\n"
     ],
     "language": "python",
     "metadata": {},
     "outputs": [
      {
       "output_type": "stream",
       "stream": "stdout",
       "text": [
        "Total Lines: 115790\n",
        "Total Ids, no duplicates: 49784\n",
        "Total duplicated ids: 66006\n",
        "Duplicated ids, same breadcrumb: 20331\n",
        "Duplicated ids, removed: 45675\n",
        "No Match: unrelated breadcrumbs,"
       ]
      },
      {
       "output_type": "stream",
       "stream": "stdout",
       "text": [
        " 592 Rolled up Successfully, 4928 total, 49784\n"
       ]
      }
     ],
     "prompt_number": 229
    },
    {
     "cell_type": "code",
     "collapsed": false,
     "input": [
      "bcConvert = load_productBC(pdef,breadcrumb_count,hasBreadcrumb,goodBreadcrumbs)\n",
      "bcKeys = set(bcConvert.keys())"
     ],
     "language": "python",
     "metadata": {},
     "outputs": [],
     "prompt_number": 230
    },
    {
     "cell_type": "markdown",
     "metadata": {},
     "source": [
      "## Loaded user data "
     ]
    },
    {
     "cell_type": "code",
     "collapsed": false,
     "input": [
      "#Market baskets sort by hhid, then date\n",
      "\"\"\">>> marketBaskets[marketBaskets.keys()[0]]\n",
      "defaultdict(<type 'list'>,\n",
      "            {'30JUL2012': [('804829', '08:43:32'), ('625959', '08:43:32'), \n",
      "                           ('816911', '08:43:32'), ('802747', '08:49:39')],\n",
      "\"\"\"\n",
      "#hhPurchases sort by hhid, then item id\n",
      "hhPurchases = getHouseholdPurchases(conn,bcConvert)\n",
      "\"\"\"\n",
      ">>> hhPurchases\n",
      "{u'434209967': defaultdict(None, {u'Shower Heads&Shower Heads & Hand Showers': \n",
      "[(u'434209967', u'28JUL2013', u'10:00:43'),(u'434209967', u'29JUL2013', u'10:00:45')]\n",
      "\"\"\""
     ],
     "language": "python",
     "metadata": {},
     "outputs": [
      {
       "ename": "TypeError",
       "evalue": "unhashable type: 'list'",
       "output_type": "pyerr",
       "traceback": [
        "\u001b[0;31m---------------------------------------------------------------------------\u001b[0m\n\u001b[0;31mTypeError\u001b[0m                                 Traceback (most recent call last)",
        "\u001b[0;32m<ipython-input-29-474e687a4580>\u001b[0m in \u001b[0;36m<module>\u001b[0;34m()\u001b[0m\n\u001b[1;32m      6\u001b[0m \"\"\"\n\u001b[1;32m      7\u001b[0m \u001b[0;31m#hhPurchases sort by hhid, then item id\u001b[0m\u001b[0;34m\u001b[0m\u001b[0;34m\u001b[0m\u001b[0m\n\u001b[0;32m----> 8\u001b[0;31m \u001b[0mhhPurchases\u001b[0m \u001b[0;34m=\u001b[0m \u001b[0mgetHouseholdPurchases\u001b[0m\u001b[0;34m(\u001b[0m\u001b[0mconn\u001b[0m\u001b[0;34m,\u001b[0m\u001b[0mbcConvert\u001b[0m\u001b[0;34m)\u001b[0m\u001b[0;34m\u001b[0m\u001b[0m\n\u001b[0m\u001b[1;32m      9\u001b[0m \"\"\"\n\u001b[1;32m     10\u001b[0m \u001b[0;34m>>\u001b[0m\u001b[0;34m>\u001b[0m \u001b[0mhhPurchases\u001b[0m\u001b[0;34m\u001b[0m\u001b[0m\n",
        "\u001b[0;32m<ipython-input-3-9d17b2f42701>\u001b[0m in \u001b[0;36mgetHouseholdPurchases\u001b[0;34m(conn, bcConvert)\u001b[0m\n\u001b[1;32m     16\u001b[0m                 \u001b[0md\u001b[0m\u001b[0;34m[\u001b[0m\u001b[0mtup\u001b[0m\u001b[0;34m[\u001b[0m\u001b[0;36m3\u001b[0m\u001b[0;34m]\u001b[0m\u001b[0;34m]\u001b[0m\u001b[0;34m[\u001b[0m\u001b[0mitem\u001b[0m\u001b[0;34m]\u001b[0m \u001b[0;34m+=\u001b[0m \u001b[0;34m[\u001b[0m\u001b[0;34m(\u001b[0m\u001b[0mtup\u001b[0m\u001b[0;34m[\u001b[0m\u001b[0;36m3\u001b[0m\u001b[0;34m]\u001b[0m\u001b[0;34m,\u001b[0m\u001b[0mtup\u001b[0m\u001b[0;34m[\u001b[0m\u001b[0;36m2\u001b[0m\u001b[0;34m]\u001b[0m\u001b[0;34m,\u001b[0m\u001b[0mtup\u001b[0m\u001b[0;34m[\u001b[0m\u001b[0;36m4\u001b[0m\u001b[0;34m]\u001b[0m\u001b[0;34m)\u001b[0m\u001b[0;34m]\u001b[0m\u001b[0;34m\u001b[0m\u001b[0m\n\u001b[1;32m     17\u001b[0m             \u001b[0;32melse\u001b[0m\u001b[0;34m:\u001b[0m\u001b[0;34m\u001b[0m\u001b[0m\n\u001b[0;32m---> 18\u001b[0;31m                 \u001b[0md\u001b[0m\u001b[0;34m[\u001b[0m\u001b[0mtup\u001b[0m\u001b[0;34m[\u001b[0m\u001b[0;36m3\u001b[0m\u001b[0;34m]\u001b[0m\u001b[0;34m]\u001b[0m\u001b[0;34m[\u001b[0m\u001b[0mitem\u001b[0m\u001b[0;34m]\u001b[0m \u001b[0;34m=\u001b[0m \u001b[0;34m[\u001b[0m\u001b[0;34m(\u001b[0m\u001b[0mtup\u001b[0m\u001b[0;34m[\u001b[0m\u001b[0;36m3\u001b[0m\u001b[0;34m]\u001b[0m\u001b[0;34m,\u001b[0m\u001b[0mtup\u001b[0m\u001b[0;34m[\u001b[0m\u001b[0;36m2\u001b[0m\u001b[0;34m]\u001b[0m\u001b[0;34m,\u001b[0m\u001b[0mtup\u001b[0m\u001b[0;34m[\u001b[0m\u001b[0;36m4\u001b[0m\u001b[0;34m]\u001b[0m\u001b[0;34m)\u001b[0m\u001b[0;34m]\u001b[0m\u001b[0;34m\u001b[0m\u001b[0m\n\u001b[0m\u001b[1;32m     19\u001b[0m     \u001b[0;32mreturn\u001b[0m \u001b[0md\u001b[0m\u001b[0;34m\u001b[0m\u001b[0m\n\u001b[1;32m     20\u001b[0m \u001b[0;34m\u001b[0m\u001b[0m\n",
        "\u001b[0;31mTypeError\u001b[0m: unhashable type: 'list'"
       ]
      }
     ],
     "prompt_number": 29
    },
    {
     "cell_type": "code",
     "collapsed": false,
     "input": [],
     "language": "python",
     "metadata": {},
     "outputs": []
    },
    {
     "cell_type": "markdown",
     "metadata": {},
     "source": [
      "## Loading LDA topics"
     ]
    },
    {
     "cell_type": "code",
     "collapsed": false,
     "input": [
      "resultsDir = \"breadcrumb_rolledup1_LDA/\"\n",
      "ex = loadLDA(\"LDA_530_topics_2000_chunks___10_passes.txt\",resultsDir,getFileInfo(\"LDA_470_topics_2000_chunks___10_passes.txt\"))\n",
      "lda = gensim.models.LdaModel.load(\"breadcrumb_rolledup1_LDA/\"+\"LDA_470_topics_2000_chunks___10_passes.txt\")\n"
     ],
     "language": "python",
     "metadata": {},
     "outputs": [],
     "prompt_number": 6
    },
    {
     "cell_type": "code",
     "collapsed": false,
     "input": [
      "topics = loadLDA(\"LDA_530_topics_2000_chunks___10_passes.txt\",resultsDir,words=40)"
     ],
     "language": "python",
     "metadata": {},
     "outputs": [],
     "prompt_number": 12
    },
    {
     "cell_type": "code",
     "collapsed": false,
     "input": [
      "topic = topics[1]\n",
      "topic"
     ],
     "language": "python",
     "metadata": {},
     "outputs": [
      {
       "metadata": {},
       "output_type": "pyout",
       "prompt_number": 13,
       "text": [
        "[(0.509, u'Granule&Lawn Fertilizers'),\n",
        " (0.402, u'Lawn Weed Killer&Weed Killer'),\n",
        " (0.046, u'Weed & Grass Killer&Weed Killer'),\n",
        " (0.022, u'Access Panels&Plumbing Accessories'),\n",
        " (0.006, u'Caulk & Sealants&Paint\\n'),\n",
        " (0.005, u'Paint Buckets & Tools&Paint Buckets, Tools, Safety & Apparel'),\n",
        " (0.004, u'Paint Brushes&Paint Brushes'),\n",
        " (0.003, u'Duct Tape, Glues & Epoxy&Paint\\n'),\n",
        " (0.002, u'Garden Hoses&Watering & Irrigation'),\n",
        " (0.001, u'Soils&Soil & Soil Amendments'),\n",
        " (0.001, u'Nozzles & Wands&Watering & Irrigation')]"
       ]
      }
     ],
     "prompt_number": 13
    },
    {
     "cell_type": "code",
     "collapsed": false,
     "input": [
      "def getIntersection(hhid,bcConvert,hhPurchases,topic):\n",
      "    #Count the intersection between household purchases and the items in a topic\n",
      "    \"\"\">>> getIntersection(household,bcConvert,hhPurchases,topic)\n",
      "    set([u'339304']) \"\"\"\n",
      "    return set([word[1] for word in topic]) & set(hhPurchases[hhid].keys())\n",
      "\n",
      "def topicPipeline(fname):\n",
      "    fname = \"LDA_530_topics_2000_chunks___10_passes.txt\"\n",
      "    topics = loadLDA(\"LDA_530_topics_2000_chunks___10_passes.txt\",resultsDir,words=40)\n",
      "    res = []\n",
      "    for topic in topics:\n",
      "        N = list(getIntersection(household,bcConvert,hhPurchases,topic))\n",
      "        if len(N) > 0:\n",
      "            res.append(score(N))\n",
      "    print topics"
     ],
     "language": "python",
     "metadata": {},
     "outputs": [],
     "prompt_number": 14
    },
    {
     "cell_type": "code",
     "collapsed": false,
     "input": [
      "def scoreHousehold(hhid,topic):\n",
      "    \"\"\"Scores intersection of household purchases and topic\n",
      "    >>> topic = [(0.746, u'Soap & Lotion Dispensers&Kitchen Faucets'),(0.139, u'Stack Heads&In-Wall Duct System')]\n",
      "    >>> hhid = \"439900010\"\n",
      "    \"\"\"\n",
      "    N = getIntersection(hhid,bcConvert,hhPurchases,topic)\n",
      "    score = 0\n",
      "    if len(list(N)) > 0:\n",
      "        for item in topic:\n",
      "            #score += weight*purchase_freq\n",
      "            if item[1] in N:\n",
      "                score += item[0]*len(hhPurchases[hhid][item[1]])\n",
      "    return score\n",
      "\n",
      "def scoreAllHouseholds(households,topic):\n",
      "    \"\"\"Computes relevance of all households to topic\"\"\"\n",
      "    return sum([scoreHousehold(household,topic) for household in households])"
     ],
     "language": "python",
     "metadata": {},
     "outputs": [],
     "prompt_number": 15
    },
    {
     "cell_type": "code",
     "collapsed": false,
     "input": [
      "score = scoreAllHouseholds(households,topic)\n",
      "print score"
     ],
     "language": "python",
     "metadata": {},
     "outputs": [
      {
       "output_type": "stream",
       "stream": "stdout",
       "text": [
        "3131.833\n"
       ]
      }
     ],
     "prompt_number": 16
    },
    {
     "cell_type": "code",
     "collapsed": false,
     "input": [
      "def getFlatLists(intersection,hhPurchases,hhid):\n",
      "    #Compress dct of items into flat list and sorts by date (past to present)\n",
      "    \"\"\"\n",
      "    >>> getFlatLists(N,hhPurchases,sampleHHid)\n",
      "    [(u'Weed & Grass Killer&Weed Killer', u'02SEP2012', u'10:32:05'),\n",
      " (u'Soils&Soil & Soil Amendments', u'06MAY2012', u'13:15:12'),\n",
      " (u'Garden Hoses&Watering & Irrigation', u'06MAY2012', u'13:15:12')]\n",
      "    \"\"\"\n",
      "    intersection = list(intersection)\n",
      "    allItems = []\n",
      "    for item in intersection:\n",
      "        if item in hhPurchases[hhid].keys():\n",
      "            for tup in hhPurchases[hhid][item]:\n",
      "                allItems.append((item,tup[1],tup[2]))\n",
      "    allItems.sort(key=lambda elem: elem[1])\n",
      "    return allItems#items,dates,times"
     ],
     "language": "python",
     "metadata": {},
     "outputs": [],
     "prompt_number": 17
    },
    {
     "cell_type": "code",
     "collapsed": false,
     "input": [
      "sampleHHid = \"434209967\" \n",
      "N = getIntersection(sampleHHid,bcConvert,hhPurchases,topic)\n",
      "#for idd in households:\n",
      "#    if len(getIntersection(idd,bcConvert,hhPurchases,topic)) > 4:\n",
      "#        print idd"
     ],
     "language": "python",
     "metadata": {},
     "outputs": [],
     "prompt_number": 18
    },
    {
     "cell_type": "code",
     "collapsed": false,
     "input": [
      "hhPurchases[sampleHHid][list(N)[0]]"
     ],
     "language": "python",
     "metadata": {},
     "outputs": [
      {
       "metadata": {},
       "output_type": "pyout",
       "prompt_number": 19,
       "text": [
        "[(u'434209967', u'10NOV2012', u'11:06:36')]"
       ]
      }
     ],
     "prompt_number": 19
    },
    {
     "cell_type": "code",
     "collapsed": false,
     "input": [
      "#items,dates,times = getFlatLists(N,hhPurchases,sampleHHid)\n",
      "items = getFlatLists(N,hhPurchases,sampleHHid)\n",
      "#items.sort(key=lambda elem: elem[1])"
     ],
     "language": "python",
     "metadata": {},
     "outputs": [],
     "prompt_number": 20
    },
    {
     "cell_type": "code",
     "collapsed": false,
     "input": [],
     "language": "python",
     "metadata": {},
     "outputs": [],
     "prompt_number": 39
    },
    {
     "cell_type": "markdown",
     "metadata": {},
     "source": [
      "#Look at Purchase distance"
     ]
    },
    {
     "cell_type": "code",
     "collapsed": false,
     "input": [
      "def getTimeDiff(a,b):\n",
      "    \"\"\" >>> a,b= '02SEP2012','06MAY2012'\n",
      "        >>> getTimeDiff(a,b)\n",
      "        119\n",
      "    \"\"\"\n",
      "    return (convertDate(a) - convertDate(b)).days\n",
      "\n",
      "def purchaseDistance(items,constraint=None):\n",
      "    #Find longest continuous segment of product purchases, if constraint provided. Otherwise, \n",
      "    #returns average time between purchases. Constraint should be in days\n",
      "    \"\"\" >>> items = [(u'Weed & Grass Killer&Weed Killer', u'02SEP2012', u'10:32:05'),\n",
      "     (u'Soils&Soil & Soil Amendments', u'06MAY2012', u'13:15:12'),\n",
      "     (u'Garden Hoses&Watering & Irrigation', u'05MAY2012', u'13:15:12')]\n",
      "     >>> purchaseDistance(items,constraint=None)\n",
      "     120,3\n",
      "     >>> purchaseDistance(items,constraint=7)\n",
      "     (1,[(u'Weed & Grass Killer&Weed Killer', u'02SEP2012', u'10:32:05'),\n",
      "      (u'Soils&Soil & Soil Amendments', u'06MAY2012', u'13:15:12')])\n",
      "    \"\"\"\n",
      "    count,t,currItems, longestCount,longestT,closestItems = 0,0,[],0,0,[]\n",
      "    if len(items) == 0 or len(items) == 1:\n",
      "        return t\n",
      "    if constraint:\n",
      "        for i in range(len(items)-1):\n",
      "            if getTimeDiff(items[i][1],items[i+1][1]) > constraint:\n",
      "                longestT = t if count > longestCount else longestT\n",
      "                closestItems = currItems if count > longestCount else closestItems\n",
      "                longestCount = count if count > longestCount else longestCount\n",
      "                t,count,currItems = 0,1,[items[i]]\n",
      "            else:\n",
      "                count +=1\n",
      "                t += getTimeDiff(items[i][1],items[i+1][1])\n",
      "                currItems.append(items[i])\n",
      "        longestT = t if count > longestCount else longestT\n",
      "        closestItems = currItems if count > longestCount else closestItems\n",
      "        longestCount = count if count > longestCount else longestCount\n",
      "    else:\n",
      "        return sum([getTimeDiff(items[i][1],items[i+1][1]) for i in range(len(items)-1)]),len(items)\n",
      "    return longestT,closestItems\n",
      "\n",
      "items = [(u'Weed & Grass Killer&Weed Killer', u'02SEP2012', u'10:32:05'),(u'Soils&Soil & Soil Amendments', u'06MAY2012', u'13:15:12'), (u'Garden Hoses&Watering & Irrigation', u'05MAY2012', u'13:15:12')]\n",
      "purchaseDistance(items,constraint=7)"
     ],
     "language": "python",
     "metadata": {},
     "outputs": [
      {
       "metadata": {},
       "output_type": "pyout",
       "prompt_number": 21,
       "text": [
        "(1,\n",
        " [(u'Weed & Grass Killer&Weed Killer', u'02SEP2012', u'10:32:05'),\n",
        "  (u'Soils&Soil & Soil Amendments', u'06MAY2012', u'13:15:12')])"
       ]
      }
     ],
     "prompt_number": 21
    },
    {
     "cell_type": "markdown",
     "metadata": {},
     "source": [
      "## Load labels and Convert (Breadcrumb from Home Depot Projects on website)"
     ]
    },
    {
     "cell_type": "code",
     "collapsed": false,
     "input": [
      "def extractLabel(i,projectLabels):\n",
      "    \"\"\"\n",
      "    >>> projectLabels = ['379', 'Hanging and Arranging Pictures', 'Screw Eyes', \n",
      "    'Tools &amp; Hardware, Hardware, Fasteners, Metal Hooks &amp; Eyes, Screw Eyes']\n",
      "    >>> extractLabel(378, projectLabels)\n",
      "    ['Hanging and Arranging Pictures', 'Screw Eyes&Metal Hooks & Eyes']\n",
      "    \"\"\"\n",
      "    try:\n",
      "        cat = [cat.replace('&amp;','&').strip(\" \").strip(\"\\n\").strip(\" \").strip(\"\\r\") for cat in projectLabels[i][3].split(',')[-2:]]\n",
      "        return [projectLabels[i][2],projectLabels[i][1],\"|\".join([cat[1],cat[0]])]\n",
      "    except:\n",
      "        return False\n",
      "\n",
      "\n",
      "projectLabels = [line.split('\\t') for line in \\\n",
      "                 open(\"breadcrumb/DIY.bread.11FEB15.bread\",'r').read().split('\\n')]\n",
      "print \"total labels:\" + str(len(projectLabels))\n",
      "projectLabels = [extractLabel(i,projectLabels) for i in range(len(projectLabels)) if extractLabel(i,projectLabels)]\n",
      "#~ 25 malformed that can't be parsed\n",
      "# 53 that need to be hand labeled\n",
      "#Load all projects: some examples"
     ],
     "language": "python",
     "metadata": {},
     "outputs": [
      {
       "output_type": "stream",
       "stream": "stdout",
       "text": [
        "total labels:1889\n"
       ]
      }
     ],
     "prompt_number": 280
    },
    {
     "cell_type": "code",
     "collapsed": false,
     "input": [
      "rolledUpLst = list(set(reduce(lambda x,y: x+y,[bcConvert[key] for key in bcConvert.keys()])))\n",
      "rolledUp = set(rolledUpLst)\n",
      "secondaryCategoriesLst = [i.split(\"|\")[1] if \"|\" in i else i for i in rolledUpLst]\n",
      "secondaryCategories = set(secondaryCategoriesLst) #ie Circuit Breakers in '1 Pole|Circuit Breakers' "
     ],
     "language": "python",
     "metadata": {},
     "outputs": [],
     "prompt_number": 272
    },
    {
     "cell_type": "code",
     "collapsed": false,
     "input": [],
     "language": "python",
     "metadata": {},
     "outputs": [],
     "prompt_number": 269
    },
    {
     "cell_type": "markdown",
     "metadata": {},
     "source": [
      "##Fix Missing"
     ]
    },
    {
     "cell_type": "code",
     "collapsed": false,
     "input": [
      "#List all possible breadcrumb categories\n",
      "bclines = [[i.strip(\"\\n\") for i in line[4:]] for line in loadBreadCrumb()] #[....['Installation Tools', 'Tools & Maintenance', 'Wood Flooring', 'Flooring'],"
     ],
     "language": "python",
     "metadata": {},
     "outputs": [],
     "prompt_number": 150
    },
    {
     "cell_type": "code",
     "collapsed": false,
     "input": [
      "bcSets = [set(i) for i in bclines]"
     ],
     "language": "python",
     "metadata": {},
     "outputs": [],
     "prompt_number": 152
    },
    {
     "cell_type": "code",
     "collapsed": false,
     "input": [],
     "language": "python",
     "metadata": {},
     "outputs": [],
     "prompt_number": 261
    },
    {
     "cell_type": "code",
     "collapsed": false,
     "input": [
      "projectLabelsUpdated = defaultdict(list)\n",
      "missing = [p[2] for p in projectLabels if p[2] not in rolledUp]\n",
      "missing = set(list(missing))\n",
      "missing = 0\n",
      "first,second = 0,0\n",
      "rollupExtra,nonSpecific = [],[]\n",
      "convert = defaultdict()\n",
      "needToFix,upOne,upTwo = [],[],[]\n",
      "with open('data/missingProjectLabels.txt','w') as f:\n",
      "    for p in projectLabels:\n",
      "        if p[2] not in rolledUp:\n",
      "            #print p\n",
      "            temp = p[2].split(\"|\")\n",
      "            found = False\n",
      "            for poss in bcSets:\n",
      "                if temp[0] in poss:\n",
      "                    found = True\n",
      "                    item = bclines[bcSets.index(poss)]\n",
      "                    i = item.index(temp[0])\n",
      "                    break\n",
      "            if not found:\n",
      "                for poss in bcSets:\n",
      "                    if temp[1] in poss:\n",
      "                        found = True\n",
      "                        item = bclines[bcSets.index(poss)]\n",
      "                        i = item.index(temp[1])\n",
      "                        break\n",
      "            if found:\n",
      "                start = item[i:i+2] if i+2 <= len(item) else item[i:]\n",
      "                match = \"|\".join(match)\n",
      "                if match in rolledUp and i > 0 and i < 3:\n",
      "                    projectLabelsUpdated[p[1]] += [\"|\".join(match)]\n",
      "                if match not in rolledUp and i > 0:\n",
      "                    res = matchF(\" \".join(start),rolledUpLst,secondaryCategoriesLst)\n",
      "                    if len(res) > 0:\n",
      "                         projectLabelsUpdated[p[1]] += [res[0]]\n",
      "                    else:\n",
      "                        missing += 1\n",
      "                    #needToFix.append((match,[i,i+1]))\n",
      "                    #if i == 1:\n",
      "                    #    upOne.append(item[i])\n",
      "                    #elif i == 2:\n",
      "                    #    upTwo.append(item[i])\n",
      "                    #else:\n",
      "                    #    pass\n",
      "            else:\n",
      "                missing += 1\n",
      "                f.writelines(\"\\t\".join(p)+\"\\n\")\n",
      "            \"\"\"\n",
      "            if temp[0] in secondaryCategories and len(temp) > 1: #Roll all of these up an extra level [Now have been rolled up]\n",
      "                first += 1\n",
      "                rollupExtra += [temp[0]]\n",
      "                print temp[0],[i for i in rolledUp if temp[0] in i]\n",
      "            elif temp[1] in secondaryCategories and len(temp) > 1: #Non specific\n",
      "                second += 1\n",
      "                nonSpecific += [temp[1]]\n",
      "                #print temp,[i for i in rolledUp if temp[1] in i]\n",
      "            else:\n",
      "                f.writelines(\"\\t\".join(p)+\"\\n\")\n",
      "                missing += 1\n",
      "            \"\"\"\n",
      "        else:\n",
      "            projectLabelsUpdated[p[1]] += [p[2]]\n",
      "print missing,len(needToFix)\n",
      "#print set(nonSpecific)\n",
      "print first,second,missing #528 60 175"
     ],
     "language": "python",
     "metadata": {},
     "outputs": []
    },
    {
     "cell_type": "code",
     "collapsed": false,
     "input": [
      "def matchF(category,rolledUpLst,secondaryCategoriesLst):\n",
      "    def check(category,item):\n",
      "        for i in category:\n",
      "            if i not in item:\n",
      "                return False\n",
      "        return True\n",
      "    \"\"\"\n",
      "    ie: category = 'Bathroom Accessories' or 'Bathroom Hardware'\n",
      "    ['Bathroom Accessories & Hardware', 'Sink Maintenance & Accessories|Bathroom Sinks', 'Bath Tub & Shower Accessories|Bathroom Accessories & Hardware']\n",
      "    \"\"\"\n",
      "    category = category.split(\" \")\n",
      "    res = [rolledUpLst[i] for i in range(len(secondaryCategoriesLst)) if check(category,secondaryCategoriesLst[i])]\n",
      "    return res\n"
     ],
     "language": "python",
     "metadata": {},
     "outputs": []
    },
    {
     "cell_type": "code",
     "collapsed": false,
     "input": [
      "def fixProducts(bcConvert):\n",
      "    new = defaultdict(list)\n",
      "    for key in bcConvert.keys():\n",
      "        \n",
      "    return bcConvert[i]"
     ],
     "language": "python",
     "metadata": {},
     "outputs": [],
     "prompt_number": 199
    },
    {
     "cell_type": "code",
     "collapsed": false,
     "input": [
      "bcConvert[bcConvert.keys()[1]]"
     ],
     "language": "python",
     "metadata": {},
     "outputs": [
      {
       "metadata": {},
       "output_type": "pyout",
       "prompt_number": 210,
       "text": [
        "['Screw Eyes|Metal Hooks & Eyes']"
       ]
      }
     ],
     "prompt_number": 210
    },
    {
     "cell_type": "code",
     "collapsed": false,
     "input": [
      "set(upOne)"
     ],
     "language": "python",
     "metadata": {},
     "outputs": [
      {
       "metadata": {},
       "output_type": "pyout",
       "prompt_number": 226,
       "text": [
        "{'Artificial Christmas Trees',\n",
        " 'Bathroom Accessories',\n",
        " 'Bathroom Hardware',\n",
        " 'Cabinet Accessories',\n",
        " 'Carpet Tools & Accessories',\n",
        " 'Ceiling Fan Accessories',\n",
        " 'Ceramic Tile',\n",
        " 'Chain Link Fencing',\n",
        " 'Christmas Garland',\n",
        " 'Christmas Lights',\n",
        " 'Christmas Wreaths',\n",
        " 'Circuit Breakers',\n",
        " 'Clamps & Vices',\n",
        " 'Cleaners',\n",
        " 'Copper Pipe & Fittings',\n",
        " 'Decking',\n",
        " 'Decorative Wall Tiles',\n",
        " 'Door Locks & Deadbolts',\n",
        " 'Drills',\n",
        " 'Drip Irrigation Kits',\n",
        " 'Extension Cords',\n",
        " 'Fittings',\n",
        " 'Flashlights & Accessories',\n",
        " 'Framing Lumber & Studs',\n",
        " 'Garden Rakes',\n",
        " 'Gardening Tools',\n",
        " 'Glue Guns & Glue Sticks',\n",
        " 'Grinders',\n",
        " 'Hammers',\n",
        " 'Kitchen Sinks',\n",
        " 'Knives & Blades',\n",
        " 'Landscaping',\n",
        " 'Lawn Fertilizers',\n",
        " 'Lawn Sprinklers',\n",
        " 'Levels',\n",
        " 'Nails',\n",
        " 'PVC Pipe & Fittings',\n",
        " 'Paint Brushes',\n",
        " 'Paint Rollers',\n",
        " 'Paint Sprayers',\n",
        " 'Paper Products',\n",
        " 'Pedestal Sinks',\n",
        " 'Pliers',\n",
        " 'Plumbing Tools',\n",
        " 'Plywood',\n",
        " 'Ratchet & Socket Sets',\n",
        " 'Reconditioned Saws',\n",
        " 'Safety Equipment',\n",
        " 'Sanders',\n",
        " 'Saw Blades',\n",
        " 'Saws',\n",
        " 'Screwdrivers',\n",
        " 'Screws',\n",
        " 'Shears & Pruning Tools',\n",
        " 'Shower Heads & Hand Showers',\n",
        " 'Sink Faucets',\n",
        " 'Sump Pumps',\n",
        " 'Switch Plates',\n",
        " 'Thermostats',\n",
        " 'Toilet & Bidet Seats',\n",
        " 'Vacuums',\n",
        " 'Washers & Dryers',\n",
        " 'Weather Stripping',\n",
        " 'Wire',\n",
        " 'Wrenches'}"
       ]
      }
     ],
     "prompt_number": 226
    },
    {
     "cell_type": "code",
     "collapsed": false,
     "input": [
      "with open(\"data/projectLabelsConverted.txt\",'w') as f:\n",
      "    for key in projectLabelsUpdated.keys():\n",
      "        res = list(set(projectLabelsUpdated[key]))\n",
      "        f.writelines(\"\\t\".join([key,\";\".join(res)])+\"\\n\")\n",
      "        "
     ],
     "language": "python",
     "metadata": {},
     "outputs": [],
     "prompt_number": 174
    },
    {
     "cell_type": "code",
     "collapsed": false,
     "input": [
      "caught = ['Drills&Power Tools','Pliers&Electrical Tools','Drill Bits&Power Tool Accessories','Drill Bits&Electrical Tools','Garden Rakes&Gardening Tools','Paint Brushes&Paint','Hammers&Hand Tools','Nails&Fasteners','Levels&Measure & Layout Tools','Screwdrivers&Screwdrivers & Nut Drivers']\n",
      "missing = [p for p in projectLabels if p[2] not in rolledUp] #and p[2] not in set(caught)]\n",
      "missing.sort()\n",
      "print len(missing)\n",
      "#'Pliers&Electrical Tools'\n",
      "# 'Drill Bits&Power Tool Accessories' = \n",
      "#'Drill Bits&Electrical Tools' = [u'Spade Bits&Drill Bits', u'Screw Guns&Drills', u'Rotary Drills&Drills', u'Step Bits&Drill Bits', u'Auger Bits&Drill Bits', u'Air Drills&Air Tools', u'Installer Bits&Drill Bits', u'Drill Presses&Woodworking Tools', u'Brad/Pilot Point Bits&Drill Bits', u'Bit Holders & Extensions&Drill Bits', u'Hammer Drills&Concrete Drilling Tools', u'Demolition & Breaker Hammers&Concrete Drilling Tools', u'Forstner Bits&Drill Bits', u'Specialty Drill Bits&Drill Bits', u'Right Angle Drills&Drills', u'Drill/Drivers&Drills', u'Assorted Bit Sets&Drill Bits', u'Driving Bits&Drill Bits', u'Countersink Bits&Drill Bits', u'Masonry & Percussion&Drill Bits', u'Drill Attachments&Power Tool Accessories', u'Twist Drill Bits&Drill Bits', u'Drilling Hammers&Hammers', u'Self-Drilling Screws&Screws']\n",
      "#'Drills&Power Tools' = [u'Spade Bits&Drill Bits', u'Screw Guns&Drills', u'Rotary Drills&Drills', u'Step Bits&Drill Bits', u'Auger Bits&Drill Bits', u'Air Drills&Air Tools', u'Installer Bits&Drill Bits', u'Drill Presses&Woodworking Tools', u'Brad/Pilot Point Bits&Drill Bits', u'Bit Holders & Extensions&Drill Bits', u'Hammer Drills&Concrete Drilling Tools', u'Demolition & Breaker Hammers&Concrete Drilling Tools', u'Forstner Bits&Drill Bits', u'Specialty Drill Bits&Drill Bits', u'Right Angle Drills&Drills', u'Drill/Drivers&Drills', u'Assorted Bit Sets&Drill Bits', u'Driving Bits&Drill Bits', u'Countersink Bits&Drill Bits', u'Masonry & Percussion&Drill Bits', u'Drill Attachments&Power Tool Accessories', u'Twist Drill Bits&Drill Bits', u'Drilling Hammers&Hammers', u'Self-Drilling Screws&Screws']\n",
      "#'Garden Rakes&Gardening Tools' = [u'Landscaping Rakes&Garden Rakes',u'Leaf Rakes&Garden Rakes',u'Shrub Rakes&Garden Rakes']\n",
      "# 'Hammers&Hand Tools' = [u'Air Hammers&Air Tools', u'Ball-Peen Hammers&Hammers', u'Claw Hammers&Hammers', u'Sledge Hammers&Striking Tools', u'Specialty Hammers&Hammers', u'Demolition & Breaker Hammers&Concrete Drilling Tools', u'Dead-Blow Hammers&Hammers', u'Framing Hammers&Hammers', u'Drilling Hammers&Hammers']\n",
      "# 'Nails&Fasteners' = [u'Collated Flooring Nails&Collated Nails, Screws & Staples', u'Collated Finishing Nails&Collated Nails, Screws & Staples', u'Linoleum Nails&Nails', u'Collated Framing Nails&Collated Nails, Screws & Staples', u'Pneumatic Staples&Collated Nails, Screws & Staples', u'Roofing Nails&Nails', u'Siding Nails&Nails', u'Collated Roofing Nails&Collated Nails, Screws & Staples', u'Collated Siding Nails&Collated Nails, Screws & Staples', u'Collated Screws&Collated Nails, Screws & Staples', u'Specialty Nails&Nails', u'Finishing Nails&Nails', u'Framing Nails&Nails', u'Collated Specialty Nails&Collated Nails, Screws & Staples', u'Common Nails&Nails', u'Box Nails&Nails', u'Thumb Tacks&Nails']\n",
      "# 'Screwdrivers&Screwdrivers & Nut Drivers' = [u'Specialty Screwdrivers&Screwdrivers', u'Screwdrivers & Nut Drivers&Electrical Tools', u'Slotted Screwdrivers&Screwdrivers', u'Phillips-Head Screwdrivers&Screwdrivers', u'Multi-Bit Screwdrivers&Screwdrivers', u'Nut Drivers&Screwdrivers & Nut Drivers']\n",
      "#'Levels&Measure & Layout Tools' = [u'Carpenter Squares&Marking & Layout tools', u'Plumb Bobs&Marking & Layout tools', u'Writing Utensils&Marking & Layout tools', u'Compasses&Marking & Layout tools', u'Flagging Tape&Marking & Layout tools', u'Protractors&Marking & Layout tools', u'Chalk Reels & Chalk&Marking & Layout tools', u'Calculators&Marking & Layout tools']\n",
      "#'Paint Brushes&Paint' = 'Paint Brushes&Paint Brushes'\n",
      "#missing = open(\"breadcrumb/missingCategories.txt\",'w')\n",
      "#[missing.writelines(\"\\t\".join(p)+\"\\n\") for p in projectLabels if p[2] not in rolledUp]\n",
      "#missing.close()\n",
      "\n",
      "#convert = {}\n",
      "#for p in missing:\n",
      "#    try:\n",
      "        #convert[p[2]] = [i for i in rolledUp if p[2].split(\"&\")[0] in i]\n",
      "#    except:\n",
      "#        print p\n",
      "\n",
      "#corrections:\n",
      "#convert['Toilet & Bidet Seats&Toilet Seats & Bidet'] = ['Bidet Seats&Toilet & Bidet Seats']\n",
      "# Use this for now."
     ],
     "language": "python",
     "metadata": {},
     "outputs": [
      {
       "output_type": "stream",
       "stream": "stdout",
       "text": [
        "763\n"
       ]
      }
     ],
     "prompt_number": 50
    },
    {
     "cell_type": "code",
     "collapsed": false,
     "input": [
      "categories = [set([j.lower().strip(\",\").strip(\"\\n\") for j in i.split(\"&\")[1].split(\" \") if len(j) > 1]) for i in rolledUp]"
     ],
     "language": "python",
     "metadata": {},
     "outputs": [
      {
       "ename": "IndexError",
       "evalue": "list index out of range",
       "output_type": "pyerr",
       "traceback": [
        "\u001b[0;31m---------------------------------------------------------------------------\u001b[0m\n\u001b[0;31mIndexError\u001b[0m                                Traceback (most recent call last)",
        "\u001b[0;32m<ipython-input-60-39551ad76150>\u001b[0m in \u001b[0;36m<module>\u001b[0;34m()\u001b[0m\n\u001b[0;32m----> 1\u001b[0;31m \u001b[0mcategories\u001b[0m \u001b[0;34m=\u001b[0m \u001b[0;34m[\u001b[0m\u001b[0mset\u001b[0m\u001b[0;34m(\u001b[0m\u001b[0;34m[\u001b[0m\u001b[0mj\u001b[0m\u001b[0;34m.\u001b[0m\u001b[0mlower\u001b[0m\u001b[0;34m(\u001b[0m\u001b[0;34m)\u001b[0m\u001b[0;34m.\u001b[0m\u001b[0mstrip\u001b[0m\u001b[0;34m(\u001b[0m\u001b[0;34m\",\"\u001b[0m\u001b[0;34m)\u001b[0m\u001b[0;34m.\u001b[0m\u001b[0mstrip\u001b[0m\u001b[0;34m(\u001b[0m\u001b[0;34m\"\\n\"\u001b[0m\u001b[0;34m)\u001b[0m \u001b[0;32mfor\u001b[0m \u001b[0mj\u001b[0m \u001b[0;32min\u001b[0m \u001b[0mi\u001b[0m\u001b[0;34m.\u001b[0m\u001b[0msplit\u001b[0m\u001b[0;34m(\u001b[0m\u001b[0;34m\"&\"\u001b[0m\u001b[0;34m)\u001b[0m\u001b[0;34m[\u001b[0m\u001b[0;36m1\u001b[0m\u001b[0;34m]\u001b[0m\u001b[0;34m.\u001b[0m\u001b[0msplit\u001b[0m\u001b[0;34m(\u001b[0m\u001b[0;34m\" \"\u001b[0m\u001b[0;34m)\u001b[0m \u001b[0;32mif\u001b[0m \u001b[0mlen\u001b[0m\u001b[0;34m(\u001b[0m\u001b[0mj\u001b[0m\u001b[0;34m)\u001b[0m \u001b[0;34m>\u001b[0m \u001b[0;36m1\u001b[0m\u001b[0;34m]\u001b[0m\u001b[0;34m)\u001b[0m \u001b[0;32mfor\u001b[0m \u001b[0mi\u001b[0m \u001b[0;32min\u001b[0m \u001b[0mrolledUp\u001b[0m\u001b[0;34m]\u001b[0m\u001b[0;34m\u001b[0m\u001b[0m\n\u001b[0m",
        "\u001b[0;31mIndexError\u001b[0m: list index out of range"
       ]
      }
     ],
     "prompt_number": 60
    },
    {
     "cell_type": "code",
     "collapsed": false,
     "input": [],
     "language": "python",
     "metadata": {},
     "outputs": [],
     "prompt_number": 223
    },
    {
     "cell_type": "code",
     "collapsed": false,
     "input": [
      "x = []\n",
      "convert = {}\n",
      "rolledUpLst = list(rolledUp)\n",
      "stillMissing = []\n",
      "for p in missing:\n",
      "    first = set([item.lower() for item in p.split(\"|\")[0].split(\" \") if item != '']) # and item not in {\"Accessories\",\"Outdoor\"}])\n",
      "    second = set([item.lower() for item in p.split(\"|\")[1].split(\" \")]) #if item != '' and item not in {\"Accessories\",\"Outdoor\"}])\n",
      "    if first in categories:\n",
      "        convert[p] = [first]\n",
      "    elif second in categories:\n",
      "        convert[p] = [second]\n",
      "    else:\n",
      "        small = set([item.lower() for item in p.split(\"|\")[0].split(\" \") if item != '' and item not in {\"Accessories\",\"Outdoor\"}])\n",
      "        stillMissing += [p]\n",
      "        scores = [len(item&small) for item in categories]\n",
      "        maxScore = max(scores)\n",
      "        best = [rolledUpLst[i] for i in range(len(scores)) if scores[i] == maxScore and maxScore!=0]\n",
      "        convert[p] = best\n",
      "#print len(convert.keys())\n",
      "#print len(missing)\n",
      "#print len(stillMissing)\n",
      "#print stillMissing\n",
      "\n",
      "handlabel = open(\"handlabel.txt\",'w')\n",
      "for item in convert.keys():\n",
      "    if len(convert[item])>1:\n",
      "        print item\n",
      "        handlabel.writelines(item+\"\\t\"+\"\\t\".join(convert[item])+\"\\n\")"
     ],
     "language": "python",
     "metadata": {},
     "outputs": [
      {
       "ename": "NameError",
       "evalue": "name 'categories' is not defined",
       "output_type": "pyerr",
       "traceback": [
        "\u001b[0;31m---------------------------------------------------------------------------\u001b[0m\n\u001b[0;31mNameError\u001b[0m                                 Traceback (most recent call last)",
        "\u001b[0;32m<ipython-input-59-4a9a7f513887>\u001b[0m in \u001b[0;36m<module>\u001b[0;34m()\u001b[0m\n\u001b[1;32m      6\u001b[0m     \u001b[0mfirst\u001b[0m \u001b[0;34m=\u001b[0m \u001b[0mset\u001b[0m\u001b[0;34m(\u001b[0m\u001b[0;34m[\u001b[0m\u001b[0mitem\u001b[0m\u001b[0;34m.\u001b[0m\u001b[0mlower\u001b[0m\u001b[0;34m(\u001b[0m\u001b[0;34m)\u001b[0m \u001b[0;32mfor\u001b[0m \u001b[0mitem\u001b[0m \u001b[0;32min\u001b[0m \u001b[0mp\u001b[0m\u001b[0;34m.\u001b[0m\u001b[0msplit\u001b[0m\u001b[0;34m(\u001b[0m\u001b[0;34m\"|\"\u001b[0m\u001b[0;34m)\u001b[0m\u001b[0;34m[\u001b[0m\u001b[0;36m0\u001b[0m\u001b[0;34m]\u001b[0m\u001b[0;34m.\u001b[0m\u001b[0msplit\u001b[0m\u001b[0;34m(\u001b[0m\u001b[0;34m\" \"\u001b[0m\u001b[0;34m)\u001b[0m \u001b[0;32mif\u001b[0m \u001b[0mitem\u001b[0m \u001b[0;34m!=\u001b[0m \u001b[0;34m''\u001b[0m\u001b[0;34m]\u001b[0m\u001b[0;34m)\u001b[0m \u001b[0;31m# and item not in {\"Accessories\",\"Outdoor\"}])\u001b[0m\u001b[0;34m\u001b[0m\u001b[0m\n\u001b[1;32m      7\u001b[0m     \u001b[0msecond\u001b[0m \u001b[0;34m=\u001b[0m \u001b[0mset\u001b[0m\u001b[0;34m(\u001b[0m\u001b[0;34m[\u001b[0m\u001b[0mitem\u001b[0m\u001b[0;34m.\u001b[0m\u001b[0mlower\u001b[0m\u001b[0;34m(\u001b[0m\u001b[0;34m)\u001b[0m \u001b[0;32mfor\u001b[0m \u001b[0mitem\u001b[0m \u001b[0;32min\u001b[0m \u001b[0mp\u001b[0m\u001b[0;34m.\u001b[0m\u001b[0msplit\u001b[0m\u001b[0;34m(\u001b[0m\u001b[0;34m\"|\"\u001b[0m\u001b[0;34m)\u001b[0m\u001b[0;34m[\u001b[0m\u001b[0;36m1\u001b[0m\u001b[0;34m]\u001b[0m\u001b[0;34m.\u001b[0m\u001b[0msplit\u001b[0m\u001b[0;34m(\u001b[0m\u001b[0;34m\" \"\u001b[0m\u001b[0;34m)\u001b[0m\u001b[0;34m]\u001b[0m\u001b[0;34m)\u001b[0m \u001b[0;31m#if item != '' and item not in {\"Accessories\",\"Outdoor\"}])\u001b[0m\u001b[0;34m\u001b[0m\u001b[0m\n\u001b[0;32m----> 8\u001b[0;31m     \u001b[0;32mif\u001b[0m \u001b[0mfirst\u001b[0m \u001b[0;32min\u001b[0m \u001b[0mcategories\u001b[0m\u001b[0;34m:\u001b[0m\u001b[0;34m\u001b[0m\u001b[0m\n\u001b[0m\u001b[1;32m      9\u001b[0m         \u001b[0mconvert\u001b[0m\u001b[0;34m[\u001b[0m\u001b[0mp\u001b[0m\u001b[0;34m]\u001b[0m \u001b[0;34m=\u001b[0m \u001b[0;34m[\u001b[0m\u001b[0mfirst\u001b[0m\u001b[0;34m]\u001b[0m\u001b[0;34m\u001b[0m\u001b[0m\n\u001b[1;32m     10\u001b[0m     \u001b[0;32melif\u001b[0m \u001b[0msecond\u001b[0m \u001b[0;32min\u001b[0m \u001b[0mcategories\u001b[0m\u001b[0;34m:\u001b[0m\u001b[0;34m\u001b[0m\u001b[0m\n",
        "\u001b[0;31mNameError\u001b[0m: name 'categories' is not defined"
       ]
      }
     ],
     "prompt_number": 59
    },
    {
     "cell_type": "code",
     "collapsed": false,
     "input": [],
     "language": "python",
     "metadata": {},
     "outputs": [
      {
       "ename": "SyntaxError",
       "evalue": "invalid syntax (<ipython-input-5-d8b3d32a9d9c>, line 1)",
       "output_type": "pyerr",
       "traceback": [
        "\u001b[0;36m  File \u001b[0;32m\"<ipython-input-5-d8b3d32a9d9c>\"\u001b[0;36m, line \u001b[0;32m1\u001b[0m\n\u001b[0;31m    echo $PYTHON_PATH\u001b[0m\n\u001b[0m         ^\u001b[0m\n\u001b[0;31mSyntaxError\u001b[0m\u001b[0;31m:\u001b[0m invalid syntax\n"
       ]
      }
     ],
     "prompt_number": 5
    },
    {
     "cell_type": "code",
     "collapsed": false,
     "input": [
      "%run 281hwk.ipynb"
     ],
     "language": "python",
     "metadata": {},
     "outputs": [
      {
       "output_type": "stream",
       "stream": "stderr",
       "text": [
        "ERROR: File `u'281hwk.ipynb.py'` not found.\n"
       ]
      }
     ],
     "prompt_number": 4
    },
    {
     "cell_type": "code",
     "collapsed": false,
     "input": [],
     "language": "python",
     "metadata": {},
     "outputs": []
    }
   ],
   "metadata": {}
  }
 ]
}