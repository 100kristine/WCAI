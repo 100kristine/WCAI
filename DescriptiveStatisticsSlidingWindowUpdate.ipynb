{
 "metadata": {
  "name": "",
  "signature": "sha256:01dfeae67af3aded86efdb359249fbc1ae22e1aa9f8a32ba509905e0e3170a6a"
 },
 "nbformat": 3,
 "nbformat_minor": 0,
 "worksheets": [
  {
   "cells": [
    {
     "cell_type": "code",
     "collapsed": false,
     "input": [
      "from __future__ import division\n",
      "import numpy as np\n",
      "import pandas as pd\n",
      "import matplotlib.pyplot as plt\n",
      "from gensim import corpora\n",
      "from collections import defaultdict,Counter\n",
      "from scipy.stats import mode\n",
      "import random,re,datetime,nltk,gensim"
     ],
     "language": "python",
     "metadata": {},
     "outputs": [],
     "prompt_number": 2
    },
    {
     "cell_type": "code",
     "collapsed": false,
     "input": [
      "#Files\n",
      "d = \"line_item_purchase/\"\n",
      "f1 = \"line_1_KC_only.txt\"\n",
      "f2 = \"line_2_KC_only.txt\"\n",
      "f3 = \"test2.txt\"\n",
      "pdef = \"data/product.txt\""
     ],
     "language": "python",
     "metadata": {},
     "outputs": [],
     "prompt_number": 7
    },
    {
     "cell_type": "code",
     "collapsed": false,
     "input": [
      "def load_Frame(f):\n",
      "    x = pd.DataFrame.from_csv(d+f,header=0,sep=\"|\",index_col=3)\n",
      "    x.sort(['hh_id','trans_date','trans_time'])            \n",
      "    return x\n",
      "#wcai_sample_group = Known Consumer (KC), Known Professionals (KP), and Randomly Selected Customers (ALL)\n",
      "x = pd.DataFrame.from_csv(d+f1,header=0,sep=\"|\",index_col=3)\n"
     ],
     "language": "python",
     "metadata": {},
     "outputs": [],
     "prompt_number": 8
    },
    {
     "cell_type": "code",
     "collapsed": false,
     "input": [
      "def convertDate(date):\n",
      "    #convert only date\n",
      "    return datetime.datetime.strptime(date,\"%d%b%Y\")\n",
      "\n",
      "def convert(date):\n",
      "    #convert date and time\n",
      "    return datetime.datetime.strptime(date,\"%d%b%Y%H:%M:%S\")\n",
      "\n",
      "def convertTime(date):\n",
      "    #convert only time\n",
      "    return datetime.datetime.strptime(date,\"%H:%M:%S\")\n",
      "\n",
      "def getMarketBasketDct(d,f):\n",
      "    #Return nested dct {household:{date:[(item, time) for item in that market basket]}}\n",
      "    dct = defaultdict(lambda : defaultdict(list))\n",
      "    with open(d+f) as f:\n",
      "        header = next(f).split(\"|\")\n",
      "        hh_id,item = header.index('hh_id'),header.index('item_id'),\n",
      "        date,time = header.index('trans_date'),header.index('trans_time')\n",
      "        \n",
      "        for line in f:\n",
      "            line = line.split(\"|\")\n",
      "            dct[line[hh_id]][line[date]]+=[(line[item],line[time])] \n",
      "    return dct\n",
      "\n",
      "marketBaskets = getMarketBasketDct(d,f1)"
     ],
     "language": "python",
     "metadata": {},
     "outputs": [],
     "prompt_number": 9
    },
    {
     "cell_type": "code",
     "collapsed": false,
     "input": [
      "#Frequencies of items by cluster\n",
      "def load_product_def(pname):\n",
      "    dct = defaultdict()\n",
      "    with open(pname) as f:\n",
      "        next(f)\n",
      "        for line in f:\n",
      "            line = line.split(\"|\")\n",
      "            dct[line[0]] = [\".\".join(line[1].split(\" \"))]\n",
      "    return dct\n",
      "\n",
      "def load_product_def_consolidated(pname):\n",
      "    #load conversions for product table\n",
      "    #Altered to group subcategories\n",
      "    dct = defaultdict()\n",
      "    with open(pname) as f:\n",
      "        next(f)\n",
      "        consolidated,total = 0,0\n",
      "        for line in f:\n",
      "            line = line.split(\"|\")\n",
      "            if line[5] == \"CONVENIENCE\":#Added to consolidate\n",
      "                dct[line[0]] = [\"CONVENIENCE\"]\n",
      "                consolidated +=1\n",
      "            elif re.match(r\"\"\"[0-9\\-]+\"\"\",line[3]):\n",
      "                dct[line[0]] = [\"CARDS.RENTALS\"]\n",
      "                consolidated +=1\n",
      "            else:\n",
      "                dct[line[0]] = [\".\".join(line[1].split(\" \"))]\n",
      "            total+=1\n",
      "    print \"Total \",total\n",
      "    print \"Consolidated \",consolidated\n",
      "    return dct\n",
      "\n",
      "pnames = load_product_def_consolidated(pdef)"
     ],
     "language": "python",
     "metadata": {},
     "outputs": [
      {
       "output_type": "stream",
       "stream": "stdout",
       "text": [
        "Total  111916\n",
        "Consolidated  888\n"
       ]
      }
     ],
     "prompt_number": 11
    },
    {
     "cell_type": "markdown",
     "metadata": {},
     "source": [
      "**Visual topics updated with sliding window**"
     ]
    },
    {
     "cell_type": "code",
     "collapsed": false,
     "input": [
      "# Per topic\n",
      "# Each data point belongs to a household\n",
      "# average distance between items by household\n",
      "# Fraction of sentences in that household\n",
      "\n",
      "def cleanEntry(topic):\n",
      "    return [i.split('*')[1] for i in topic.split(\" + \")]\n",
      "\n",
      "def cleanTopic(topic):\n",
      "    allItems = []\n",
      "    for sent in topic:\n",
      "        allItems += cleanEntry(sent)\n",
      "    return allItems\n",
      "\n",
      "def getSentences(topic):\n",
      "    #Returns list of readable sentences\n",
      "    return cleanEntry(topic)\n",
      "\n",
      "def getWindows(dct,hh_id):\n",
      "    #Returns baskets like: [['11MAR2012', '15MAR2012'], ['23MAR2012'],['22APR2012'],['29MAY2012']]\n",
      "    dates = [(convertDate(key),key) for key in dct[hh_id].keys()]\n",
      "    dates.sort()\n",
      "    if len(dates)==0:\n",
      "        return []\n",
      "    prev,windows,window = dates[0][0],[],[dates[0][1]]\n",
      "    for date in dates[1:]:\n",
      "        if (date[0] - prev).days <=7:\n",
      "            window.append(date[1]) \n",
      "        else:\n",
      "            windows.append(window)\n",
      "            window = [date[1]]\n",
      "        prev = date[0]\n",
      "    return windows\n",
      "\n",
      "def getBaskets(windows,dct,hh_id,pnames):\n",
      "    #For each time in the window, create baskets of item ids\n",
      "    baskets = []\n",
      "    for window in windows:\n",
      "        basket = []\n",
      "        for item in window:\n",
      "            basket += [pnames[item[0]][0] for item in dct[hh_id][item]]\n",
      "        baskets.append(set(basket))\n",
      "    return baskets\n",
      "\n",
      "def getSentenceFraction(topic,dct,pnames):\n",
      "    #Households can now have multiple baskets, each basket is sorted by time\n",
      "    #Put households into list if they have at least 3 items that exist in that topic\n",
      "    fractions,distances,households = [],[],[]\n",
      "    sentences = set(getSentences(topic))\n",
      "    for household in dct.keys():\n",
      "        baskets = getBaskets(getWindows(dct,household),dct,household,pnames)\n",
      "        \n",
      "        for basket in baskets:\n",
      "            if len(basket) > 0:\n",
      "                #items = set([pnames[item[0]][0] for item in dct[household][basket]])\n",
      "                intersect = basket & sentences\n",
      "                if len(intersect) > 3:\n",
      "                    fractions.append(len(intersect))\n",
      "                    households.append(household)\n",
      "                    #distances.append(time)\n",
      "    return fractions,set(households),distances\n",
      "\n",
      "def parseDate(date):\n",
      "    #Convert date\n",
      "    return datetime.datetime.strptime(date,\"%d%b%Y\")\n",
      "\n",
      "def averageTimes(times):\n",
      "    averageTimes,i = [],0\n",
      "    if len(times)==1:\n",
      "        return 0\n",
      "    else:\n",
      "        while (i+1) < len(times):\n",
      "            averageTimes.append(times[i+1]-times[i])\n",
      "            i+=1\n",
      "    print [t.days/3600 for t in averageTimes]\n",
      "    return sum([t.days/3600 for t in averageTimes])/len(averageTimes)\n",
      "    \n",
      "def timeDistance(baskets):\n",
      "    times = []\n",
      "    if len(baskets) == 1 or len(baskets) == 0:\n",
      "        return 0\n",
      "    else:\n",
      "        i = 0\n",
      "        while i+1 < len(baskets):\n",
      "            times.append(baskets[i+1] - baskets[i])\n",
      "            i+=1\n",
      "    return sum([t.days for t in times])/len(times)\n",
      "    \n",
      "def visualize_topic(topic,dct,pnames,numtopics):\n",
      "    # For a particular topic, create charts to show the clustering of sentences\n",
      "    # time vs sentences\n",
      "    fractions,households,distances = getSentenceFraction(topic,dct,pnames)\n",
      "    if len(fractions) > 4:\n",
      "        #plt.hist(y,bins,label=\"testing\")\n",
      "        #plt.hist(z,bins,label=\"invisi\")\n",
      "        #plt.hist(x,bins,label=\"x\")\n",
      "        \n",
      "        plt.hist(fractions)\n",
      "        plt.ylabel(\"Number of Baskets\")\n",
      "        plt.xlabel(\"Number of Items in Intersection between Topic and Basket\")\n",
      "        plt.savefig(\"Topics_\"+ str(numtopics) +\"_visualized_topic\" + str(random.random())+\".png\")\n",
      "        plt.show()\n",
      "    return"
     ],
     "language": "python",
     "metadata": {},
     "outputs": [],
     "prompt_number": 7
    },
    {
     "cell_type": "markdown",
     "metadata": {},
     "source": [
      "**Saving baskets**"
     ]
    },
    {
     "cell_type": "code",
     "collapsed": false,
     "input": [
      " def createBasketsFile(dct,pnames):\n",
      "    #For use with association rule mining\n",
      "    #Save each basket as a line\n",
      "    allBaskets = []\n",
      "    for household in dct.keys():\n",
      "        baskets = getBaskets(getWindows(dct,household),dct,household,pnames)\n",
      "        allBaskets += [list(basket) for basket in baskets]\n",
      "    with open('7daybaskets.txt','w') as f:\n",
      "        for basket in allBaskets:\n",
      "            f.writelines(\"\\t\".join(basket)+\"\\n\")\n",
      "    return allBaskets\n",
      "\n",
      "def load_product_def_condensed(pname):\n",
      "    #load conversions for product table\n",
      "    #Altered to group subcategories\n",
      "    dct = defaultdict()\n",
      "    with open(pname) as f:\n",
      "        next(f)\n",
      "        for line in f:\n",
      "            line = line.split(\"|\")\n",
      "            if line[5] == \"CONVENIENCE\":#Added to consolidate\n",
      "                dct[line[0]] = [\"CONVENIENCE\"]\n",
      "            elif re.match(r\"\"\"[0-9\\-]+\"\"\",line[3]):\n",
      "                dct[line[0]] = [\"CARDS.RENTALS\"]\n",
      "            else:\n",
      "                dct[line[0]] = [\".\".join(line[1].split(\" \"))]\n",
      "    return dct\n",
      "\n",
      "pnames = load_product_def_condensed(pdef)\n",
      "\n",
      "baskets = createBasketsFile(marketBaskets,pnames)\n",
      "\n",
      "\n"
     ],
     "language": "python",
     "metadata": {},
     "outputs": [],
     "prompt_number": 8
    },
    {
     "cell_type": "markdown",
     "metadata": {},
     "source": [
      "Check topics against the tile cluster and record how many items match."
     ]
    },
    {
     "cell_type": "code",
     "collapsed": false,
     "input": [
      "\n",
      "\n",
      "def checkAllTopicsAgainstToyCluster():\n",
      "    getSentenceFraction(topic,dct,pnames):\n",
      "    return"
     ],
     "language": "python",
     "metadata": {},
     "outputs": []
    },
    {
     "cell_type": "code",
     "collapsed": false,
     "input": [],
     "language": "python",
     "metadata": {},
     "outputs": []
    },
    {
     "cell_type": "code",
     "collapsed": false,
     "input": [
      "#lda10 = gensim.models.LdaModel.load(\"LDA_10_topics_2000_chunks_50_passes.txt\")\n",
      "#topics10 = lda10.show_topics(num_topics=10,num_words=50)\n",
      "#for topic in topics10:\n",
      "#    visualize_topic(topic,marketBaskets,pnames,10)\n"
     ],
     "language": "python",
     "metadata": {},
     "outputs": [],
     "prompt_number": 9
    },
    {
     "cell_type": "code",
     "collapsed": false,
     "input": [
      "lda10 = gensim.models.LdaModel.load(\"LDA_50_topics_100_chunks_10_passes_SIMPLIFIED.txt\")\n",
      "topics10 = lda10.show_topics(num_topics=30,num_words=50)\n",
      "#for topic in topics10:\n",
      "#    visualize_topic(topic,marketBaskets,pnames,50)\n"
     ],
     "language": "python",
     "metadata": {},
     "outputs": [],
     "prompt_number": 19
    },
    {
     "cell_type": "code",
     "collapsed": false,
     "input": [
      "fractions,households,distances = getSentenceFraction(topics10[0],marketBaskets,pnames)"
     ],
     "language": "python",
     "metadata": {},
     "outputs": [],
     "prompt_number": 25
    },
    {
     "cell_type": "code",
     "collapsed": false,
     "input": [
      "distances"
     ],
     "language": "python",
     "metadata": {},
     "outputs": [
      {
       "metadata": {},
       "output_type": "pyout",
       "prompt_number": 28,
       "text": [
        "[]"
       ]
      }
     ],
     "prompt_number": 28
    },
    {
     "cell_type": "code",
     "collapsed": false,
     "input": [
      "lda10 = gensim.models.LdaModel.load(\"LDA_50_topics_100_chunks_10_passes_SIMPLIFIED.txt\")\n",
      "topics10 = lda10.show_topics(num_topics=10,num_words=50)\n",
      "#for topic in topics10:\n",
      "#    visualize_topic(topic,marketBaskets,pnames,50)"
     ],
     "language": "python",
     "metadata": {},
     "outputs": [],
     "prompt_number": 24
    },
    {
     "cell_type": "code",
     "collapsed": false,
     "input": [],
     "language": "python",
     "metadata": {},
     "outputs": []
    },
    {
     "cell_type": "code",
     "collapsed": false,
     "input": [
      "x = range(1,6)\n",
      "y = range(7,10)\n",
      "bins = range(1,10)\n",
      "z = [0]\n",
      "plt.hist(y,bins,label=\"testing\")\n",
      "plt.hist(z,bins,label=\"invisi\")\n",
      "plt.hist(x,bins,label=\"x\")\n",
      "plt.legend()"
     ],
     "language": "python",
     "metadata": {},
     "outputs": [
      {
       "metadata": {},
       "output_type": "pyout",
       "prompt_number": 42,
       "text": [
        "<matplotlib.legend.Legend at 0x11f245e90>"
       ]
      },
      {
       "metadata": {},
       "output_type": "display_data",
       "png": "[encoded data removed]",
       "text": [
        "<matplotlib.figure.Figure at 0x114640e50>"
       ]
      }
     ],
     "prompt_number": 42
    },
    {
     "cell_type": "code",
     "collapsed": false,
     "input": [],
     "language": "python",
     "metadata": {},
     "outputs": []
    }
   ],
   "metadata": {}
  }
 ]
}