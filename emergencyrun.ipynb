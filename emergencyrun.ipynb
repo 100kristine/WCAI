{
 "metadata": {
  "name": "",
  "signature": "sha256:e79785c3ce9122d4f9ba3ae7d7e77761eaf6299ff674407bf9940a15732b1ea3"
 },
 "nbformat": 3,
 "nbformat_minor": 0,
 "worksheets": [
  {
   "cells": [
    {
     "cell_type": "code",
     "collapsed": false,
     "input": [
      "from collections import defaultdict\n",
      "import sqlite3\n",
      "import pickle\n",
      "import numpy as np\n"
     ],
     "language": "python",
     "metadata": {},
     "outputs": [],
     "prompt_number": 2
    },
    {
     "cell_type": "code",
     "collapsed": false,
     "input": [
      "ids,mapping,breadcrumb_count = filterProducts()\n",
      "hasBreadcrumb = set(breadcrumb_count.keys())\n",
      "goodBreadcrumbs = breadcrumbsToKeep(breadcrumb_count)"
     ],
     "language": "python",
     "metadata": {},
     "outputs": [
      {
       "output_type": "stream",
       "stream": "stdout",
       "text": [
        "Total Lines: 115790\n",
        "Total Ids, no duplicates: 49784\n",
        "Total duplicated ids: 66006\n",
        "Duplicated ids, same breadcrumb: 20331\n",
        "Duplicated ids, removed: 45675\n",
        "No Match: unrelated breadcrumbs, 592 Rolled up Successfully, 4928 total, 49784\n"
       ]
      }
     ],
     "prompt_number": 7
    },
    {
     "cell_type": "code",
     "collapsed": false,
     "input": [
      "%run reusableFunctions.ipynb"
     ],
     "language": "python",
     "metadata": {},
     "outputs": [],
     "prompt_number": 4
    },
    {
     "cell_type": "code",
     "collapsed": false,
     "input": [
      "def extractLabel(i,projectLabels):\n",
      "    \"\"\"\n",
      "    >>> projectLabels = ['379', 'Hanging and Arranging Pictures', 'Screw Eyes', \n",
      "    'Tools &amp; Hardware, Hardware, Fasteners, Metal Hooks &amp; Eyes, Screw Eyes']\n",
      "    >>> extractLabel(378, projectLabels)\n",
      "    ['Hanging and Arranging Pictures', 'Screw Eyes&Metal Hooks & Eyes']\n",
      "    \"\"\"\n",
      "    try:\n",
      "        cat = [cat.replace('&amp;','&').strip(\" \").strip(\"\\n\").strip(\" \").strip(\"\\r\") for cat in projectLabels[i][3].split(',')[-2:]]\n",
      "        return [projectLabels[i][2],projectLabels[i][1],[cat[1],cat[0]]]\n",
      "    except:\n",
      "        return None"
     ],
     "language": "python",
     "metadata": {},
     "outputs": [],
     "prompt_number": 8
    },
    {
     "cell_type": "code",
     "collapsed": false,
     "input": [
      "conversions = load_productBC(pdef,breadcrumb_count,hasBreadcrumb,goodBreadcrumbs)\n",
      "conv = set(conversions.keys())\n",
      "for key in conversions.keys()[:5]:\n",
      "    print key,conversions[key]\n",
      "categories = set([conversions[key] for key in conversions.keys()])"
     ],
     "language": "python",
     "metadata": {},
     "outputs": [
      {
       "output_type": "stream",
       "stream": "stdout",
       "text": [
        "825674 Metal Hooks & Eyes\n",
        "825677 Metal Hooks & Eyes\n",
        "460066 Faucet Parts & Repair\n",
        "792635 Seeds & Accessories\n",
        "741868 Electrical Tools\n"
       ]
      }
     ],
     "prompt_number": 15
    },
    {
     "cell_type": "code",
     "collapsed": false,
     "input": [
      "baskets = getMarketBasketDct(d,all_purchases,byDate=False,noTime=True) #{household:[items]}"
     ],
     "language": "python",
     "metadata": {},
     "outputs": [],
     "prompt_number": 16
    },
    {
     "cell_type": "code",
     "collapsed": false,
     "input": [
      "bcBaskets = defaultdict()\n",
      "for household in baskets.keys(): #FIX\n",
      "    basket = [pnames[item] for item in baskets[household] if item in conv]#convertBasket(baskets[household],singleBCFreq,breadcrumb_count)\n",
      "    if len(basket) > 0:\n",
      "        bcBaskets[household] = basket\n",
      "for key in bcBaskets.keys()[:1]:\n",
      "    print key,bcBaskets[key][:10]"
     ],
     "language": "python",
     "metadata": {},
     "outputs": [
      {
       "output_type": "stream",
       "stream": "stdout",
       "text": [
        "434209967 ['Tool Storage', 'Electrical Tape & Wire Connectors', 'Electrical Tools', 'Tool Storage', 'Moulding & Millwork', 'Tool Storage', 'Routers', 'Lawn Care', 'Paint Buckets, Tools, Safety & Apparel', 'Paint Buckets, Tools, Safety & Apparel']\n"
       ]
      }
     ],
     "prompt_number": 17
    },
    {
     "cell_type": "code",
     "collapsed": false,
     "input": [
      "projectLabels = [line.split('\\t') for line in \\\n",
      "                 open(\"breadcrumb/DIY.bread.11FEB15.bread\",'r').read().split('\\n')]\n",
      "print len(projectLabels),projectLabels[0]\n",
      "labels = [extractLabel(i,projectLabels) for i in range(len(projectLabels))]\n",
      "print labels[0]"
     ],
     "language": "python",
     "metadata": {},
     "outputs": [
      {
       "output_type": "stream",
       "stream": "stdout",
       "text": [
        "1889 ['1', 'Installing a Flue Hat', 'Tape measure', 'Tools &amp; Hardware, Hand Tools, Measure &amp; Layout Tools, Measuring Tools, Tape Measures']\n",
        "['Tape measure', 'Installing a Flue Hat', ['Tape Measures', 'Measuring Tools']]\n"
       ]
      }
     ],
     "prompt_number": 18
    },
    {
     "cell_type": "code",
     "collapsed": false,
     "input": [
      "def match(label):\n",
      "    if label:\n",
      "        m = [item for item in label[-1] if item in categories]\n",
      "        if len(m) > 0:\n",
      "            return m[0]\n",
      "    return False\n",
      "\n",
      "projects = defaultdict(list)\n",
      "for i in labels:\n",
      "    m = match(i)\n",
      "    if m:\n",
      "        projects[i[1]]+= [m]\n",
      "for key in projects.keys():\n",
      "    projects[key] = list(set(projects[key]))\n",
      "    \n",
      "print projects.keys()[0],projects[projects.keys()[0]]\n",
      "with open(\"rolleduprojects.txt\",'w') as f:\n",
      "    for key in projects.keys():\n",
      "        f.writelines(key+\"\\t\"+\";\".join(projects[key])+\"\\n\")\n",
      "print len(projects.keys())"
     ],
     "language": "python",
     "metadata": {},
     "outputs": [
      {
       "output_type": "stream",
       "stream": "stdout",
       "text": [
        "Removing an Old Kitchen Faucet ['Wrenches']\n",
        "317\n"
       ]
      }
     ],
     "prompt_number": 19
    },
    {
     "cell_type": "code",
     "collapsed": false,
     "input": [
      "def naiveMatch(basket,project):\n",
      "    intersect = len(set(basket)&set(project))\n",
      "    return intersect == len(set(project))"
     ],
     "language": "python",
     "metadata": {},
     "outputs": [],
     "prompt_number": 20
    },
    {
     "cell_type": "code",
     "collapsed": false,
     "input": [
      "temp = bcBaskets.keys()"
     ],
     "language": "python",
     "metadata": {},
     "outputs": [],
     "prompt_number": 21
    },
    {
     "cell_type": "code",
     "collapsed": false,
     "input": [
      "projectsByHousehold = defaultdict(list)\n",
      "for proj in projects.keys(): \n",
      "    match = [house for house in temp if naiveMatch(bcBaskets[house],projects[proj])]\n",
      "    if len(match) > 0:\n",
      "        projectsByHousehold[proj] += [match]\n"
     ],
     "language": "python",
     "metadata": {},
     "outputs": [],
     "prompt_number": 22
    },
    {
     "cell_type": "code",
     "collapsed": false,
     "input": [
      "with open(\"projectsByHousehold.txt\",'w') as f:\n",
      "    for key in projectsByHousehold.keys():\n",
      "        f.writelines(key+\"\\t\"+\";\".join(projectsByHousehold[key][0])+\"\\n\")"
     ],
     "language": "python",
     "metadata": {},
     "outputs": [],
     "prompt_number": 23
    },
    {
     "cell_type": "code",
     "collapsed": false,
     "input": [
      "counts = [[len(projectsByHousehold[key][0]),len(projects[key]),key] for key in projectsByHousehold]\n",
      "counts.sort()\n",
      "#top = [i for i in counts[-172:] if i[1] > 2]\n",
      "#top = [i for i in counts[-175:] if i[1] > 3]\n",
      "\n",
      "top = [i for i in counts[-180:] if i[1] > 3]\n",
      "top = [i for i in counts[-184:] if i[1] > 5]\n",
      "print top\n",
      "with open(\"topprojects.txt\",'w') as f:\n",
      "    f.writelines(\"\\t\".join([\"Household count\",\"Count of items in project\",\"Project name\"])+\"\\n\")\n",
      "    for tup in top:\n",
      "        f.writelines(\"\\t\".join([str(i) for i in tup])+\"\\n\")\n",
      "print len(top)"
     ],
     "language": "python",
     "metadata": {},
     "outputs": [
      {
       "output_type": "stream",
       "stream": "stdout",
       "text": [
        "[[16, 6, 'Framing a New Wall'], [22, 7, 'Maintaining Your Deck'], [29, 6, 'Craft Board for an Advent Calendar or Star Card Holder'], [81, 6, 'How To Paint Interior Walls']]\n",
        "4\n"
       ]
      }
     ],
     "prompt_number": 98
    },
    {
     "cell_type": "code",
     "collapsed": false,
     "input": [
      "\n",
      "hh = [projectsByHousehold[key[-1]][0] for key in top]\n",
      "hh = reduce(lambda x,y: x+y,hh)\n",
      "print len(hh)\n",
      "print hh[1]\n",
      "#hh = list(set(hh))\n",
      "with open('households_zlist.txt','w') as f:\n",
      "    for line in hh:\n",
      "        f.writelines(line+\"\\n\")\n",
      "    f.close()"
     ],
     "language": "python",
     "metadata": {},
     "outputs": [
      {
       "output_type": "stream",
       "stream": "stdout",
       "text": [
        "148\n",
        "410518322\n"
       ]
      }
     ],
     "prompt_number": 105
    },
    {
     "cell_type": "code",
     "collapsed": false,
     "input": [],
     "language": "python",
     "metadata": {},
     "outputs": []
    },
    {
     "cell_type": "code",
     "collapsed": false,
     "input": [
      "allWords = list(categories)\n",
      "allWords[:10]\n",
      "print len(allWords)"
     ],
     "language": "python",
     "metadata": {},
     "outputs": [
      {
       "output_type": "stream",
       "stream": "stdout",
       "text": [
        "542\n"
       ]
      }
     ],
     "prompt_number": 26
    },
    {
     "cell_type": "code",
     "collapsed": false,
     "input": [
      "smallProj = {proj[-1]:projects[proj[-1]] for proj in top}\n",
      "small = smallProj.keys() \n",
      "print smallProj"
     ],
     "language": "python",
     "metadata": {},
     "outputs": [
      {
       "output_type": "stream",
       "stream": "stdout",
       "text": [
        "{'Building a Low-Level Deck': ['Landscaping', 'Decking', 'Hand Tools', 'Builders Hardware'], 'Building a Single-Level Raised Deck': ['Workwear & Apparel', 'Decking', 'Hand Tools', 'Builders Hardware', 'Landscaping'], 'Installing Wall Cabinets': ['Laminate Flooring', 'Hand Tools', 'Power Tools', 'Lumber & Composites'], 'How To Install Electrical Conduit Outdoors': ['Paint', 'Screwdrivers & Nut Drivers', 'Electrical Tools', 'Hand Tools', 'Drill Bits'], 'Cutting a Cope Joint on Crown Moulding': ['Moulding & Millwork', 'Power Tool Accessories', 'Hand Tools', 'Tool Storage'], 'Building a Ground-Level Deck': ['Workwear & Apparel', 'Hand Tools', 'Power Tools', 'Builders Hardware'], 'Laying Out Garden Beds': ['Workwear & Apparel', 'Hand Tools', 'Power Tools', 'Watering & Irrigation'], 'How To Install Solid Hardwood Flooring': ['Wood Flooring', 'Hand Tools', 'Power Tools', 'Drill Bits']}\n"
       ]
      }
     ],
     "prompt_number": 829
    },
    {
     "cell_type": "code",
     "collapsed": false,
     "input": [
      "projIndices = {small[i]:i for i in range(len(small))}\n",
      "projIndicesBack = {i:small[i] for i in range(len(small))}\n",
      "wordIndices = {allWords[i]:i for i in range(len(allWords))}\n",
      "wordIndicesBack = {i:allWords[i] for i in range(len(allWords))}\n",
      "print projIndices"
     ],
     "language": "python",
     "metadata": {},
     "outputs": [
      {
       "output_type": "stream",
       "stream": "stdout",
       "text": [
        "{'Building a Low-Level Deck': 0, 'Building a Single-Level Raised Deck': 1, 'Installing Wall Cabinets': 2, 'How To Install Electrical Conduit Outdoors': 3, 'Cutting a Cope Joint on Crown Moulding': 4, 'Building a Ground-Level Deck': 5, 'Laying Out Garden Beds': 6, 'How To Install Solid Hardwood Flooring': 7}\n"
       ]
      }
     ],
     "prompt_number": 830
    },
    {
     "cell_type": "code",
     "collapsed": false,
     "input": [
      "projII = defaultdict(list)\n",
      "\n",
      "for word in allWords:\n",
      "    for proj in small:\n",
      "        if word in projects[proj]:\n",
      "            projII[projIndices[proj]] += [wordIndices[word]]\n",
      "        #{wordIndices[word]:[projIndices[proj] for proj in small if word in projects[proj]] for word in allWords}\n",
      "\n",
      "\n",
      "projWords = set(reduce(lambda x,y: x+y,[projII[key] for key in projII.keys()]))\n",
      "print projWords\n",
      "projII = {key:set(projII[key]) for key in projII.keys()}\n",
      "print projII"
     ],
     "language": "python",
     "metadata": {},
     "outputs": [
      {
       "output_type": "stream",
       "stream": "stdout",
       "text": [
        "set([80, 98, 48, 103, 104, 107, 12, 110, 144, 8, 50, 180, 55, 23, 120, 91, 157])\n",
        "{0: set([104, 12, 157, 110]), 1: set([104, 144, 12, 157, 110]), 2: set([103, 180, 110, 55]), 3: set([8, 107, 98, 91, 110]), 4: set([80, 120, 110, 23]), 5: set([144, 180, 157, 110]), 6: set([48, 144, 180, 110]), 7: set([8, 50, 180, 110])}\n"
       ]
      }
     ],
     "prompt_number": 831
    },
    {
     "cell_type": "code",
     "collapsed": false,
     "input": [
      "docs = [[wordIndices[i] for i in bcBaskets[h] if i in categories] for h in hh]\n",
      "print docs[0]"
     ],
     "language": "python",
     "metadata": {},
     "outputs": [
      {
       "output_type": "stream",
       "stream": "stdout",
       "text": [
        "[160, 160, 70, 139, 70, 152, 160, 152, 182, 122, 91, 91, 91, 41, 62, 91, 122, 122, 122, 122, 122, 122, 122, 122, 120, 122, 70, 91, 152, 91, 112, 91, 160, 160, 160, 160, 91, 64, 91, 23, 110, 91, 157, 149, 9, 70, 160, 160, 160, 160, 80, 122, 122, 104, 160, 181, 9]\n"
       ]
      }
     ],
     "prompt_number": 832
    },
    {
     "cell_type": "code",
     "collapsed": false,
     "input": [
      "zlabels = []\n",
      "#x = range(16,20)\n",
      "#print x\n",
      "#holdoutx = set(x)\n",
      "holdoutx = set([8,9])\n",
      "selectKeys = [key for key in projII.keys() if key not in holdoutx]\n",
      "print selectKeys\n",
      "\n",
      "for doc in docs:\n",
      "    res = []\n",
      "    for word in doc:\n",
      "        if word in projWords:\n",
      "            res.append([key for key in selectKeys if word in projII[key]])\n",
      "        else:\n",
      "            res.append(word)\n",
      "    zlabels.append(res)\n",
      "#zlabels =[[projII[word] for word in doc] for doc in docs]\n",
      "\n",
      "print zlabels[0]"
     ],
     "language": "python",
     "metadata": {},
     "outputs": [
      {
       "output_type": "stream",
       "stream": "stdout",
       "text": [
        "[0, 1, 2, 3, 4, 5, 6, 7]\n",
        "[160, 160, 70, 139, 70, 152, 160, 152, 182, 122, [3], [3], [3], 41, 62, [3], 122, 122, 122, 122, 122, 122, 122, 122, [4], 122, 70, [3], 152, [3], 112, [3], 160, 160, 160, 160, [3], 64, [3], [4], [0, 1, 2, 3, 4, 5, 6, 7], [3], [0, 1, 5], 149, 9, 70, 160, 160, 160, 160, [4], 122, 122, [0, 1], 160, 181, 9]\n"
       ]
      }
     ],
     "prompt_number": 912
    },
    {
     "cell_type": "code",
     "collapsed": false,
     "input": [
      "pickle.dump(zlabels,open(\"zlabelLDA-0.1.2/zlabeltoy.txt\",'w'))\n",
      "pickle.dump(docs,open(\"zlabelLDA-0.1.2/toydocs.txt\",'w'))\n",
      "print len(smallProj.keys())"
     ],
     "language": "python",
     "metadata": {},
     "outputs": [
      {
       "output_type": "stream",
       "stream": "stdout",
       "text": [
        "8\n"
       ]
      }
     ],
     "prompt_number": 913
    },
    {
     "cell_type": "code",
     "collapsed": false,
     "input": [
      "def getTopN(a,n):\n",
      "    \"\"\" \n",
      "    >>> a = np.array([9, 4, 4, 3, 3, 9, 0, 4, 6, 0])\n",
      "    >>> getTopN(a,4) #returns elements, indices\n",
      "    array([9, 9, 6, 4]),array([5, 0, 8, 7]))\n",
      "    \"\"\"\n",
      "    indices = a.argsort()[-n:][::-1] \n",
      "    return a[indices],indices"
     ],
     "language": "python",
     "metadata": {},
     "outputs": [],
     "prompt_number": 914
    },
    {
     "cell_type": "code",
     "collapsed": false,
     "input": [
      "phi,theta,sample = pickle.load(open('zlabelLDA-0.1.2/phi.txt','r')),pickle.load(open('zlabelLDA-0.1.2/theta.txt','r')),pickle.load(open('zlabelLDA-0.1.2/sample.txt','r'))"
     ],
     "language": "python",
     "metadata": {},
     "outputs": [],
     "prompt_number": 915
    },
    {
     "cell_type": "code",
     "collapsed": false,
     "input": [
      "allPhi = range(len(phi))\n",
      "with open(\"results_cross_28topics_89.txt\",'w') as f:\n",
      "    f.writelines(\"\\t\".join([\"Project Name\",\"isinHoldoutSet\",\"Intersection\",\"Total Elements\",\"top 10 items\",\"probabilities of top 10 items\"])+\"\\n\")\n",
      "    for i in zip(allPhi,phi):\n",
      "        probs,indices = getTopN(np.array(i[1]),10)\n",
      "        #print projIndicesBack.keys\n",
      "        probs = \"|\".join([str(z) for z in list(probs)])\n",
      "        items = [wordIndicesBack[m] for m in indices]\n",
      "        try:\n",
      "            index = projIndicesBack[i[0]]\n",
      "            intersection = len(set(projects[index])& set(items))\n",
      "            print index,intersection,str(len(set(projects[index])))\n",
      "            if i[0] in holdout:\n",
      "                f.writelines(\"\\t\".join([str(index),\"holdout\",str(intersection),str(len(set(projects[index]))),\"|\".join(items),probs])+\"\\n\")\n",
      "            else:\n",
      "                f.writelines(\"\\t\".join([str(index),\"n\\a\",str(intersection),str(len(set(projects[index]))),\"|\".join(items),probs])+\"\\n\")\n",
      "        except:\n",
      "            f.writelines(\"\\t\".join([\"unknown proj\",\"|\".join([str(m) for m in items]),probs])+\"\\n\")"
     ],
     "language": "python",
     "metadata": {},
     "outputs": [
      {
       "output_type": "stream",
       "stream": "stdout",
       "text": [
        "Building a Low-Level Deck 3 4\n",
        "Building a Single-Level Raised Deck 4 5\n",
        "Installing Wall Cabinets 3 4\n",
        "How To Install Electrical Conduit Outdoors 4 5\n",
        "Cutting a Cope Joint on Crown Moulding 4 4\n",
        "Building a Ground-Level Deck 3 4\n",
        "Laying Out Garden Beds 4 4\n",
        "How To Install Solid Hardwood Flooring 4 4\n"
       ]
      }
     ],
     "prompt_number": 916
    },
    {
     "cell_type": "code",
     "collapsed": false,
     "input": [
      "probs"
     ],
     "language": "python",
     "metadata": {},
     "outputs": [
      {
       "metadata": {},
       "output_type": "pyout",
       "prompt_number": 550,
       "text": [
        "'0.366845998655|0.185272360457|0.104572965703|0.0406859448554|0.037323470074|0.0339609952925|0.0305985205111|0.0305985205111|0.0305985205111|0.0171486213853'"
       ]
      }
     ],
     "prompt_number": 550
    },
    {
     "cell_type": "code",
     "collapsed": false,
     "input": [],
     "language": "python",
     "metadata": {},
     "outputs": []
    }
   ],
   "metadata": {}
  }
 ]
}