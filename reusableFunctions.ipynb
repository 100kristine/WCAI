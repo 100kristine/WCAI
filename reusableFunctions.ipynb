{
 "metadata": {
  "name": "",
  "signature": "sha256:32d7c0664e4b9b5b3fd13cca7d4559c57b2e41852c65635dc5cbde4fee30426b"
 },
 "nbformat": 3,
 "nbformat_minor": 0,
 "worksheets": [
  {
   "cells": [
    {
     "cell_type": "code",
     "collapsed": false,
     "input": [
      "def test():\n",
      "    print \"helloooo\"\n",
      "    return"
     ],
     "language": "python",
     "metadata": {},
     "outputs": [],
     "prompt_number": 1
    },
    {
     "cell_type": "markdown",
     "metadata": {},
     "source": [
      "##Folders"
     ]
    },
    {
     "cell_type": "code",
     "collapsed": false,
     "input": [
      "ldaModelsFolder = \"newldamodels\"\n",
      "dataFolder = \"data\"\n",
      "chartsFolder = \"images\"\n",
      "\n",
      "d = \"line_item_purchase/\"\n",
      "f1 = \"line_1_KC_only.txt\"\n",
      "f2 = \"line_2_KC_only.txt\"\n",
      "f3 = \"test2.txt\"\n",
      "pdef = \"product.txt\""
     ],
     "language": "python",
     "metadata": {},
     "outputs": [],
     "prompt_number": 3
    },
    {
     "cell_type": "markdown",
     "metadata": {},
     "source": [
      "##Date and time processing"
     ]
    },
    {
     "cell_type": "code",
     "collapsed": false,
     "input": [
      "def convertDate(date):\n",
      "    #convert only date\n",
      "    return datetime.datetime.strptime(date,\"%d%b%Y\")\n",
      "\n",
      "def convert(date):\n",
      "    #convert date and time\n",
      "    return datetime.datetime.strptime(date,\"%d%b%Y%H:%M:%S\")\n",
      "\n",
      "def convertTime(date):\n",
      "    #convert only time\n",
      "    return datetime.datetime.strptime(date,\"%H:%M:%S\")"
     ],
     "language": "python",
     "metadata": {},
     "outputs": []
    },
    {
     "cell_type": "markdown",
     "metadata": {},
     "source": [
      "## Market Basket Analysis"
     ]
    },
    {
     "cell_type": "code",
     "collapsed": false,
     "input": [
      "def getMarketBasketDct(d,f):\n",
      "    #Groups only by households\n",
      "    #Return nested dct {household:{date:[(item, time) for item in that market basket]}}\n",
      "    dct = defaultdict(lambda : defaultdict(list))\n",
      "    with open(d+f) as f:\n",
      "        header = next(f).split(\"|\")\n",
      "        hh_id,item = header.index('hh_id'),header.index('item_id'),\n",
      "        date,time = header.index('trans_date'),header.index('trans_time')\n",
      "        \n",
      "        for line in f:\n",
      "            line = line.split(\"|\")\n",
      "            dct[line[hh_id]][line[date]]+=[(line[item],line[time])] \n",
      "    return dct\n",
      "\n"
     ],
     "language": "python",
     "metadata": {},
     "outputs": [],
     "prompt_number": 30
    },
    {
     "cell_type": "markdown",
     "metadata": {},
     "source": [
      "##Sliding Window"
     ]
    },
    {
     "cell_type": "code",
     "collapsed": false,
     "input": [
      "def getWindows(dct,hh_id):\n",
      "    #Returns baskets like: [['11MAR2012', '15MAR2012'], ['23MAR2012'],['22APR2012'],['29MAY2012']]\n",
      "    dates = [(convertDate(key),key) for key in dct[hh_id].keys()]\n",
      "    dates.sort()\n",
      "    if len(dates)==0:\n",
      "        return []\n",
      "    prev,windows,window = dates[0][0],[],[dates[0][1]]\n",
      "    for date in dates[1:]:\n",
      "        if (date[0] - prev).days <=7:\n",
      "            window.append(date[1]) \n",
      "        else:\n",
      "            windows.append(window)\n",
      "            window = [date[1]]\n",
      "        prev = date[0]\n",
      "    return windows\n",
      "\n",
      "def getBaskets(windows,dct,hh_id,pnames):\n",
      "    #For each time in the window, create baskets of item ids\n",
      "    baskets = []\n",
      "    for window in windows:\n",
      "        basket = []\n",
      "        for item in window:\n",
      "            basket += [pnames[item[0]][0] for item in dct[hh_id][item]]\n",
      "        baskets.append(set(basket))\n",
      "    return baskets\n",
      "\n",
      "def averageTimes(times):\n",
      "    averageTimes,i = [],0\n",
      "    if len(times)==1:\n",
      "        return 0\n",
      "    else:\n",
      "        while (i+1) < len(times):\n",
      "            averageTimes.append(times[i+1]-times[i])\n",
      "            i+=1\n",
      "    print [t.days/3600 for t in averageTimes]\n",
      "    return sum([t.days/3600 for t in averageTimes])/len(averageTimes)\n",
      "\n",
      "def timeDistance(baskets):\n",
      "    times = []\n",
      "    if len(baskets) == 1 or len(baskets) == 0:\n",
      "        return 0\n",
      "    else:\n",
      "        i = 0\n",
      "        while i+1 < len(baskets):\n",
      "            times.append(baskets[i+1] - baskets[i])\n",
      "            i+=1\n",
      "    return sum([t.days for t in times])/len(times)\n",
      "\n",
      "def getSentenceFraction(topic,dct,pnames):\n",
      "    #Households can now have multiple baskets, each basket is sorted by time\n",
      "    fractions,distances,households = [],[],[]\n",
      "    sentences = set(getSentences(topic))\n",
      "    for household in dct.keys():\n",
      "        baskets = getBaskets(getWindows(dct,household),dct,household,pnames)\n",
      "        \n",
      "        for basket in dct[household].keys():\n",
      "            if len(basket) > 0:\n",
      "                intersect = set(basket) & sentences\n",
      "                if len(intersect) != 0:\n",
      "                    fractions.append(len(intersect))\n",
      "                    households.append(household)\n",
      "                    distances.append(time)\n",
      "    return fractions,set(households),distances"
     ],
     "language": "python",
     "metadata": {},
     "outputs": []
    },
    {
     "cell_type": "markdown",
     "metadata": {},
     "source": [
      "##Product Name Conversion"
     ]
    },
    {
     "cell_type": "code",
     "collapsed": false,
     "input": [
      "def load_product(pname,consolidate=False,skip=True):\n",
      "    #load conversions for product table\n",
      "    #Altered to group subcategories\n",
      "    #if skip, will not save the consoldiated categories to the dictionary\n",
      "    dct = defaultdict()\n",
      "    with open(pname) as f:\n",
      "        next(f)\n",
      "        for line in f:\n",
      "            line = line.split(\"|\")\n",
      "            if consolidate and line[5] == \"CONVENIENCE\":#Added to consolidate\n",
      "                if skip:\n",
      "                    pass\n",
      "                else:\n",
      "                    dct[line[0]] = [\"CONVENIENCE\"]\n",
      "            elif consolidate and re.match(r\"\"\"[0-9\\-]+\"\"\",line[3]):\n",
      "                if skip:\n",
      "                    pass\n",
      "                else:\n",
      "                    dct[line[0]] = [\"CARDS.RENTALS\"]\n",
      "            else:\n",
      "                dct[line[0]] = [\".\".join(line[1].split(\" \"))]\n",
      "    return dct"
     ],
     "language": "python",
     "metadata": {},
     "outputs": [],
     "prompt_number": 21
    },
    {
     "cell_type": "markdown",
     "metadata": {},
     "source": [
      "##Product"
     ]
    },
    {
     "cell_type": "code",
     "collapsed": false,
     "input": [
      "def openProductsFile(name=\"Product.txt\"):\n",
      "    #Open products file\n",
      "    return [line.split(\"|\") for line in open(name).read().split(\"\\n\")]\n",
      "\n",
      "def getLinesByTopic(lines,topic=\"FLOOR AND WALL TILE\",field=5):\n",
      "    #Get all lines \n",
      "    #TILE SET MATERIALS/TOOLS\n",
      "    return [line for line in lines if len(line)>field and line[field]==topic]\n",
      "\n",
      "def getFileInfo(fname):\n",
      "    #return topics, chunks, passes\n",
      "    l = fname.split('_')\n",
      "    return  int(l[1])#[int(i) for i in l[1],l[3],l[5]]"
     ],
     "language": "python",
     "metadata": {},
     "outputs": [],
     "prompt_number": 24
    },
    {
     "cell_type": "markdown",
     "metadata": {},
     "source": [
      "##Loading TileSet Items"
     ]
    },
    {
     "cell_type": "code",
     "collapsed": false,
     "input": [
      "def loadCategories():\n",
      "    d = defaultdict()\n",
      "    with open('handlabeled_testset_kristinelabels.csv') as f:\n",
      "        for line in f:\n",
      "            line = line.split(',')\n",
      "            if line[2].strip(' ') != 'unclassified':\n",
      "                d[\".\".join(line[1].split(\" \")[1:-1])] = line[2].strip(' ') \n",
      "    lines = openProductsFile()\n",
      "    topics = getLinesByTopic(lines,topic=\"FLOOR AND WALL TILE\",field=5)\n",
      "    for line in topics:\n",
      "        d[\".\".join(line[1].split(\" \"))] = 'TILE' \n",
      "    return d"
     ],
     "language": "python",
     "metadata": {},
     "outputs": [],
     "prompt_number": 25
    },
    {
     "cell_type": "markdown",
     "metadata": {},
     "source": [
      "##Processing LDA Topics"
     ]
    },
    {
     "cell_type": "code",
     "collapsed": false,
     "input": [
      "def cleanEntry(topic):\n",
      "    return [i.split('*')[1] for i in topic.split(\" + \")]\n",
      "\n",
      "def cleanTopic(topic):\n",
      "    #Separate topics into readable lines \n",
      "    allItems = []\n",
      "    for sent in topic:\n",
      "        allItems += cleanEntry(sent)\n",
      "    return allItems\n",
      "\n",
      "def getSentences(topic):\n",
      "    #Returns list of readable sentences\n",
      "    return cleanEntry(topic)\n",
      "\n",
      "def getMatch(topic,pnames):\n",
      "    #find the number of in the intersection between topic and items\n",
      "    #Return as tuples (percentage,topic)\n",
      "    match = set(topic) & set(pnames.keys())\n",
      "    return len(match),match\n",
      "\n",
      "def countCategories(topic,pnames):\n",
      "    #Count main categories that the items fall into\n",
      "    match = [pnames[word] for word in topic if word in pnames.keys()]\n",
      "    #for word in topic:\n",
      "    #    if word in pnames.keys():\n",
      "    #        match += [pnames[word]]\n",
      "    return len(set(match)),set(match)\n",
      "\n",
      "def matchTopics(topics,pnames):\n",
      "    return [(countCategories(topic,pnames),getMatch(topic,pnames)) for topic in topics]"
     ],
     "language": "python",
     "metadata": {},
     "outputs": [],
     "prompt_number": 28
    },
    {
     "cell_type": "code",
     "collapsed": false,
     "input": [],
     "language": "python",
     "metadata": {},
     "outputs": []
    }
   ],
   "metadata": {}
  }
 ]
}