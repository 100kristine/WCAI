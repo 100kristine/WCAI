{
 "metadata": {
  "name": "",
  "signature": "sha256:09bea7b6b885ba4d1d18bbc810d15fa1b3413804d7f27dcaf8ff1807ad33b3a4"
 },
 "nbformat": 3,
 "nbformat_minor": 0,
 "worksheets": [
  {
   "cells": [
    {
     "cell_type": "code",
     "collapsed": false,
     "input": [
      "import os, gensim, datetime\n",
      "from collections import defaultdict,Counter"
     ],
     "language": "python",
     "metadata": {},
     "outputs": [],
     "prompt_number": 1
    },
    {
     "cell_type": "markdown",
     "metadata": {},
     "source": [
      "##Folders"
     ]
    },
    {
     "cell_type": "code",
     "collapsed": false,
     "input": [
      "ldaModelsFolder = \"newldamodels/\"\n",
      "dataFolder = \"data\"\n",
      "chartsFolder = \"images\"\n",
      "\n",
      "d = \"line_item_purchase/\"\n",
      "f1 = \"line_1_KC_only.txt\"\n",
      "f2 = \"line_2_KC_only.txt\"\n",
      "f3 = \"test2.txt\"\n",
      "pdef = \"data/product.txt\""
     ],
     "language": "python",
     "metadata": {},
     "outputs": [],
     "prompt_number": 2
    },
    {
     "cell_type": "markdown",
     "metadata": {},
     "source": [
      "##Date and time processing"
     ]
    },
    {
     "cell_type": "code",
     "collapsed": false,
     "input": [
      "def convertDate(date):\n",
      "    #convert only date\n",
      "    return datetime.datetime.strptime(date,\"%d%b%Y\")\n",
      "\n",
      "def convert(date):\n",
      "    #convert date and time\n",
      "    return datetime.datetime.strptime(date,\"%d%b%Y%H:%M:%S\")\n",
      "\n",
      "def convertTime(date):\n",
      "    #convert only time\n",
      "    return datetime.datetime.strptime(date,\"%H:%M:%S\")"
     ],
     "language": "python",
     "metadata": {},
     "outputs": []
    },
    {
     "cell_type": "markdown",
     "metadata": {},
     "source": [
      "## Market Basket Analysis"
     ]
    },
    {
     "cell_type": "code",
     "collapsed": false,
     "input": [
      "def getMarketBasketDct(d,f,byDate=True,noTime=False):\n",
      "    #Groups only by households\n",
      "    # byDate and noTime=False: returns {household:{date:[(item, time) for item in that market basket]}}\n",
      "    # byDate and noTime=True: returns {household:{date:[item for item in that market basket]}}\n",
      "    #else just {household:[items]}\n",
      "    if byDate:\n",
      "        dct = defaultdict(lambda : defaultdict(list))\n",
      "    else:\n",
      "        dct = defaultdict(list)\n",
      "    with open(d+f) as f:\n",
      "        header = next(f).split(\"|\")\n",
      "        hh_id,item = header.index('hh_id'),header.index('item_id'),\n",
      "        date,time = header.index('trans_date'),header.index('trans_time')\n",
      "        \n",
      "        for line in f:\n",
      "            line = line.split(\"|\")\n",
      "            if byDate:\n",
      "                if noTime:\n",
      "                    dct[line[hh_id]][line[date]]+=[line[item]] \n",
      "                else:\n",
      "                    dct[line[hh_id]][line[date]]+=[(line[item],line[time])] \n",
      "            else:\n",
      "                dct[line[hh_id]]+=[line[item]] \n",
      "    return dct\n",
      "\n"
     ],
     "language": "python",
     "metadata": {},
     "outputs": [],
     "prompt_number": 23
    },
    {
     "cell_type": "markdown",
     "metadata": {},
     "source": [
      "##Sliding Window"
     ]
    },
    {
     "cell_type": "code",
     "collapsed": false,
     "input": [
      "def getWindows(dct,hh_id):\n",
      "    #Returns baskets like: [['11MAR2012', '15MAR2012'], ['23MAR2012'],['22APR2012'],['29MAY2012']]\n",
      "    dates = [(convertDate(key),key) for key in dct[hh_id].keys()]\n",
      "    dates.sort()\n",
      "    if len(dates)==0:\n",
      "        return []\n",
      "    prev,windows,window = dates[0][0],[],[dates[0][1]]\n",
      "    for date in dates[1:]:\n",
      "        if (date[0] - prev).days <=7:\n",
      "            window.append(date[1]) \n",
      "        else:\n",
      "            windows.append(window)\n",
      "            window = [date[1]]\n",
      "        prev = date[0]\n",
      "    return windows\n",
      "\n",
      "def getBaskets(windows,dct,hh_id,pnames):\n",
      "    #For each time in the window, create baskets of item ids\n",
      "    baskets = []\n",
      "    for window in windows:\n",
      "        basket = []\n",
      "        for item in window:\n",
      "            basket += [pnames[item[0]][0] for item in dct[hh_id][item]]\n",
      "        baskets.append(set(basket))\n",
      "    return baskets\n",
      "\n",
      "def averageTimes(times):\n",
      "    averageTimes,i = [],0\n",
      "    if len(times)==1:\n",
      "        return 0\n",
      "    else:\n",
      "        while (i+1) < len(times):\n",
      "            averageTimes.append(times[i+1]-times[i])\n",
      "            i+=1\n",
      "    print [t.days/3600 for t in averageTimes]\n",
      "    return sum([t.days/3600 for t in averageTimes])/len(averageTimes)\n",
      "\n",
      "def timeDistance(baskets):\n",
      "    times = []\n",
      "    if len(baskets) == 1 or len(baskets) == 0:\n",
      "        return 0\n",
      "    else:\n",
      "        i = 0\n",
      "        while i+1 < len(baskets):\n",
      "            times.append(baskets[i+1] - baskets[i])\n",
      "            i+=1\n",
      "    return sum([t.days for t in times])/len(times)\n",
      "\n",
      "def getSentenceFraction(topic,dct,pnames):\n",
      "    #Households can now have multiple baskets, each basket is sorted by time\n",
      "    fractions,distances,households = [],[],[]\n",
      "    sentences = set(getSentences(topic))\n",
      "    for household in dct.keys():\n",
      "        baskets = getBaskets(getWindows(dct,household),dct,household,pnames)\n",
      "        \n",
      "        for basket in dct[household].keys():\n",
      "            if len(basket) > 0:\n",
      "                intersect = set(basket) & sentences\n",
      "                if len(intersect) != 0:\n",
      "                    fractions.append(len(intersect))\n",
      "                    households.append(household)\n",
      "                    distances.append(time)\n",
      "    return fractions,set(households),distances"
     ],
     "language": "python",
     "metadata": {},
     "outputs": []
    },
    {
     "cell_type": "markdown",
     "metadata": {},
     "source": [
      "##Product Name Conversion"
     ]
    },
    {
     "cell_type": "code",
     "collapsed": false,
     "input": [
      "def load_product(pdef,consolidate=False,skip=True):\n",
      "    #pnames\n",
      "    #load conversions for product table\n",
      "    #Altered to group subcategories\n",
      "    #if skip, will not save the consoldiated categories to the dictionary\n",
      "    dct = defaultdict()\n",
      "    with open(pdef) as f:\n",
      "        next(f)\n",
      "        for line in f:\n",
      "            line = line.split(\"|\")\n",
      "            if consolidate and line[5] == \"CONVENIENCE\":#Added to consolidate\n",
      "                if skip:\n",
      "                    pass\n",
      "                else:\n",
      "                    dct[line[0]] = [\"CONVENIENCE\"]\n",
      "            elif consolidate and re.match(r\"\"\"[0-9\\-]+\"\"\",line[3]):\n",
      "                if skip:\n",
      "                    pass\n",
      "                else:\n",
      "                    dct[line[0]] = [\"CARDS.RENTALS\"]\n",
      "            else:\n",
      "                dct[line[0]] = [\".\".join(line[1].split(\" \"))]\n",
      "    return dct"
     ],
     "language": "python",
     "metadata": {},
     "outputs": [],
     "prompt_number": 20
    },
    {
     "cell_type": "markdown",
     "metadata": {},
     "source": [
      "##Product"
     ]
    },
    {
     "cell_type": "code",
     "collapsed": false,
     "input": [
      "def openProductsFile(name=\"data/product.txt\"):\n",
      "    #Open products file\n",
      "    return [line.split(\"|\") for line in open(name).read().split(\"\\n\")]\n",
      "\n",
      "def getLinesByTopic(lines,topic=\"FLOOR AND WALL TILE\",field=5):\n",
      "    #Get all lines \n",
      "    #TILE SET MATERIALS/TOOLS\n",
      "    return [line for line in lines if len(line)>field and line[field]==topic]\n",
      "\n",
      "def getFileInfo(fname):\n",
      "    #return topics, chunks, passes\n",
      "    l = fname.split('_')\n",
      "    return  int(l[1])#[int(i) for i in l[1],l[3],l[5]]"
     ],
     "language": "python",
     "metadata": {},
     "outputs": [],
     "prompt_number": 6
    },
    {
     "cell_type": "markdown",
     "metadata": {},
     "source": [
      "##Loading TileSet Items"
     ]
    },
    {
     "cell_type": "code",
     "collapsed": false,
     "input": [
      "def loadCategories():\n",
      "    #tileRelatedItems = categories.keys()\n",
      "    d = defaultdict()\n",
      "    with open('handlabeled_testset_kristinelabels.csv') as f:\n",
      "        for line in f:\n",
      "            line = line.split(',')\n",
      "            if line[2].strip(' ') != 'unclassified':\n",
      "                d[\".\".join(line[1].split(\" \")[1:-1])] = line[2].strip(' ') \n",
      "    lines = openProductsFile()\n",
      "    topics = getLinesByTopic(lines,topic=\"FLOOR AND WALL TILE\",field=5)\n",
      "    for line in topics:\n",
      "        d[\".\".join(line[1].split(\" \"))] = 'TILE' \n",
      "    return d\n",
      "\n",
      "allCategories = []\n",
      "\n",
      "def getFiles(dirname):\n",
      "    #Get all LDA files in directory\n",
      "    return [f for f in os.listdir(dirname[:-1]) if f[-10:] == 'passes.txt']\n",
      "\n",
      "def getAllCategories():\n",
      "    categories = loadCategories()\n",
      "    return list(set([categories[key] for key in categories.keys()]))\n",
      "\n"
     ],
     "language": "python",
     "metadata": {},
     "outputs": [],
     "prompt_number": 19
    },
    {
     "cell_type": "markdown",
     "metadata": {},
     "source": [
      "##Processing TileSet Data"
     ]
    },
    {
     "cell_type": "code",
     "collapsed": false,
     "input": [
      "def categoryCount(cluster):\n",
      "    return cluster[0][0]\n",
      "\n",
      "def itemCount(cluster):\n",
      "    return cluster[1][0]\n",
      "\n",
      "def getCategories(cluster):\n",
      "    return cluster[0][1]\n",
      "\n",
      "def getItems(cluster):\n",
      "    return cluster[1][1]\n",
      "\n",
      "def getTileRelatedClusters(clusters):\n",
      "    \"\"\"Takes in lst of tuples \n",
      "    ( (categoryCount, set(Categories)),\n",
      "        (itemCount, set(items)))\"\"\"\n",
      "    numTileClusters = sum([1 if categoryCount(item)>3 else 0 for item in clusters])\n",
      "    tileRelatedClusters = clusters[:numTileClusters]\n",
      "    return numTileClusters,tileRelatedClusters"
     ],
     "language": "python",
     "metadata": {},
     "outputs": [],
     "prompt_number": 18
    },
    {
     "cell_type": "markdown",
     "metadata": {},
     "source": [
      "##Processing LDA Topics"
     ]
    },
    {
     "cell_type": "code",
     "collapsed": false,
     "input": [
      "def cleanEntry(topic,excludeWeights=True):\n",
      "    if excludeWeights:\n",
      "        return [i.split('*')[1] for i in topic.split(\" + \")]\n",
      "    return [(float(i.split('*')[0]),i.split('*')[1]) for i in topic.split(\" + \")]\n",
      "\n",
      "def cleanTopic(topic):\n",
      "    #Separate topics into readable lines \n",
      "    allItems = []\n",
      "    for sent in topic:\n",
      "        allItems += cleanEntry(sent)\n",
      "    return allItems\n",
      "\n",
      "def getSentences(topic,getWeights=False):\n",
      "    #Returns list of readable sentences\n",
      "    if not getWeights:\n",
      "        return cleanEntry(topic)\n",
      "    return cleanEntry(topic,excludeWeights=False)\n",
      "\n",
      "def getMatch(topic,pnames):\n",
      "    #find the number of in the intersection between topic and items\n",
      "    #Return as tuples (percentage,topic)\n",
      "    match = set(topic) & set(pnames.keys())\n",
      "    return len(match),match\n",
      "\n",
      "def countCategories(topic,pnames):\n",
      "    #Count main categories that the items fall into\n",
      "    match = [pnames[word] for word in topic if word in pnames.keys()]\n",
      "    #for word in topic:\n",
      "    #    if word in pnames.keys():\n",
      "    #        match += [pnames[word]]\n",
      "    return len(set(match)),set(match)\n",
      "\n",
      "def matchTopics(topics,pnames):\n",
      "    return [(countCategories(topic,pnames),getMatch(topic,pnames)) for topic in topics]"
     ],
     "language": "python",
     "metadata": {},
     "outputs": [],
     "prompt_number": 44
    },
    {
     "cell_type": "markdown",
     "metadata": {},
     "source": [
      "##Visualization Tools"
     ]
    },
    {
     "cell_type": "code",
     "collapsed": false,
     "input": [
      "def updateRowCol(row,col,count=4):\n",
      "    if col==(count-1):\n",
      "        row +=1\n",
      "        col = 0\n",
      "    else:\n",
      "        col += 1\n",
      "    return row,col  \n",
      "\n",
      "def makeCounter(lst):\n",
      "    c = Counter()\n",
      "    for item in lst:\n",
      "        c[item] += 1\n",
      "    return c\n",
      "\n",
      "def makeHistogram(counter,fname,title,ylabeln,keylimit=False,numPlots=1,color=\"BuGn_d\"):\n",
      "    #Makes histogram from input counter. Put in fname to save to a file and title for label\n",
      "    labels = counter.keys()\n",
      "    if numPlots==1:\n",
      "        f, ax1 = plt.subplots(1, 1)\n",
      "    else:\n",
      "        f, axarr = plt.subplots(numPlots-1, 1)\n",
      "        f.set_figheight(30)\n",
      "        f.set_figwidth(15)\n",
      "        plt.tight_layout()\n",
      "        \n",
      "        plt.subplots_adjust(hspace = 1)\n",
      "        plt.subplots_adjust(wspace = .4)\n",
      "        \n",
      "    y = np.array([counter[label] for label in labels])\n",
      "    x = np.array([\" \".join(lab.split(\".\")) for lab in [labels][0]])\n",
      "    plt.ylabel(ylabeln)\n",
      "    f.suptitle(title,fontsize=20)\n",
      "    sns.set_context(rc={\"figure.figsize\": (20, 10)})\n",
      "    if numPlots==1:\n",
      "        sns.barplot(x,y,palette=color,data=y,ax=ax1) \n",
      "        ax1.set_xticklabels(labels,rotation=90,fontsize=10)\n",
      "    else:\n",
      "        row,col = 0,0\n",
      "        if not keylimit:\n",
      "            items = counter.keys()\n",
      "        else:\n",
      "            items = keylimit\n",
      "        divisions = len(items)/numPlots\n",
      "        print numPlots,divisions,len(items)\n",
      "        for i in range(1,numPlots):\n",
      "            x = np.array(items[divisions*(i-1):divisions*i])\n",
      "            y = np.array([counter[item] for item in x])\n",
      "            sns.barplot(x,y,palette=color,data=y,ax=axarr[row]) \n",
      "            axarr[row].set_xticklabels(labels,rotation=90,fontsize=10)\n",
      "            row +=1\n",
      "    plt.savefig(fname)\n",
      "    \n",
      "    return\n",
      "\n",
      "def setColorPalette():\n",
      "    sns.set_context(\"talk\")\n",
      "    sns.set_palette(\"deep\", desat=.6)\n",
      "    sns.set_context(rc={\"figure.figsize\": (16, 8)})\n",
      "    sns.set_style(\"darkgrid\")\n",
      "    return"
     ],
     "language": "python",
     "metadata": {},
     "outputs": [],
     "prompt_number": 69
    },
    {
     "cell_type": "code",
     "collapsed": false,
     "input": [],
     "language": "python",
     "metadata": {},
     "outputs": [],
     "prompt_number": 29
    },
    {
     "cell_type": "code",
     "collapsed": false,
     "input": [],
     "language": "python",
     "metadata": {},
     "outputs": []
    }
   ],
   "metadata": {}
  }
 ]
}