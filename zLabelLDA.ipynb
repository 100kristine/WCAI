{
 "metadata": {
  "name": "",
  "signature": "sha256:bf44ee1d2eadafd7c6a3654a95205c08761fa52ac844c271b938afd2e3c2493c"
 },
 "nbformat": 3,
 "nbformat_minor": 0,
 "worksheets": [
  {
   "cells": [
    {
     "cell_type": "code",
     "collapsed": false,
     "input": [
      "from gensim import corpora\n",
      "import pickle\n",
      "from collections import Counter\n",
      "import gensim,re,sqlite3\n",
      "import random\n",
      "from __future__ import division\n",
      "%run 'reusableFunctions.ipynb'\n",
      "%run 'descriptive_statistics_breadcrumb.ipynb'"
     ],
     "language": "python",
     "metadata": {},
     "outputs": [
      {
       "output_type": "stream",
       "stream": "stdout",
       "text": [
        "Total Lines: 115790\n",
        "Total Ids, no duplicates: 49784\n",
        "Total duplicated ids: 66006\n",
        "Duplicated ids, same breadcrumb: 20331\n",
        "Duplicated ids, removed: 45675\n",
        "No Match: unrelated breadcrumbs,"
       ]
      },
      {
       "output_type": "stream",
       "stream": "stdout",
       "text": [
        " 592 Rolled up Successfully, 4928 total, 49784\n",
        "Total Lines: 115790"
       ]
      },
      {
       "output_type": "stream",
       "stream": "stdout",
       "text": [
        "\n",
        "Total Ids, no duplicates: 49784\n",
        "Total duplicated ids: 66006\n",
        "Duplicated ids, same breadcrumb: 20331\n",
        "Duplicated ids, removed: 45675\n",
        "No Match: unrelated breadcrumbs,"
       ]
      },
      {
       "output_type": "stream",
       "stream": "stdout",
       "text": [
        " 592 Rolled up Successfully, 4928 total, 49784\n",
        "Total Lines: 115790"
       ]
      },
      {
       "output_type": "stream",
       "stream": "stdout",
       "text": [
        "\n",
        "Total Ids, no duplicates: 49784\n",
        "Total duplicated ids: 66006\n",
        "Duplicated ids, same breadcrumb: 20331\n",
        "Duplicated ids, removed: 45675\n"
       ]
      }
     ],
     "prompt_number": 539
    },
    {
     "cell_type": "code",
     "collapsed": false,
     "input": [
      "bc = loadBreadCrumb() #loads lines, no filtering\n",
      "pnames = load_product(pdef,consolidate=False,skip=False) #loads product id convers, no filtering\n",
      "id_to_oms = product_id_to_oms()\n",
      "p_ids,no_bc,bc_ids = compare_breadcrumb_product(breadcrumb_count)\n",
      "purchase_frequency,purchase_frequency_nobc,purchase_frequency_bc = getPurchaseFrequency(no_bc,f=all_purchases,directory=d) # counts of each product id\n",
      "hasBreadcrumb = set(breadcrumb_count.keys())\n",
      "goodBreadcrumbs = breadcrumbsToKeep(breadcrumb_count) #Replaces one breadcrumb, now can 1 to many\n",
      "baskets = getMarketBasketDct(d,all_purchases,byDate=False,noTime=True) #{household:[items]}"
     ],
     "language": "python",
     "metadata": {},
     "outputs": [
      {
       "output_type": "stream",
       "stream": "stdout",
       "text": [
        "IDs with breadcrumbs 49784\n",
        "Total product ids 111916\n",
        "Total bc ids 49784\n",
        "No Match: unrelated breadcrumbs,"
       ]
      },
      {
       "output_type": "stream",
       "stream": "stdout",
       "text": [
        " 592 Rolled up Successful, 4928 total, 49784\n"
       ]
      }
     ],
     "prompt_number": 29
    },
    {
     "cell_type": "code",
     "collapsed": false,
     "input": [
      "pnamesBC = load_productBC(pdef,breadcrumb_count,hasBreadcrumb,goodBreadcrumbs)\n"
     ],
     "language": "python",
     "metadata": {},
     "outputs": [],
     "prompt_number": 24
    },
    {
     "cell_type": "code",
     "collapsed": false,
     "input": [
      "def convertBaskets(pdef,baskets,breadcrumb_count,hasBreadcrumb,goodBreadcrumbs):  \n",
      "    \"\"\" \n",
      "    ....[['Small Parts Organizers|Tool Storage'],\n",
      "     ['Wire Connectors|Electrical Tape & Wire Connectors'],]\n",
      "    \"\"\"\n",
      "    converted = defaultdict()\n",
      "    pnames = load_productBC(pdef,breadcrumb_count,hasBreadcrumb,goodBreadcrumbs)\n",
      "    keys = set(pnames.keys())\n",
      "    for household in baskets.keys(): #FIX\n",
      "        basket = [pnames[item][0] for item in baskets[household] if item in keys]#convertBasket(baskets[household],singleBCFreq,breadcrumb_count)\n",
      "        if len(basket) > 0:\n",
      "            converted[household] = basket\n",
      "    return converted \n",
      "\n",
      "convertedBC = convertBaskets(pdef,baskets,breadcrumb_count,hasBreadcrumb,goodBreadcrumbs)"
     ],
     "language": "python",
     "metadata": {},
     "outputs": [],
     "prompt_number": 77
    },
    {
     "cell_type": "code",
     "collapsed": false,
     "input": [],
     "language": "python",
     "metadata": {},
     "outputs": [],
     "prompt_number": 89
    },
    {
     "cell_type": "code",
     "collapsed": false,
     "input": [
      "#This contains the rolled up categories\n",
      "\"\"\">>> pnamesBC[825674]\n",
      "'Screw Eyes&Metal Hooks & Eyes'\n",
      "\"\"\"\n",
      "dct = convertedBC #??? now it has multiple keys, map to one word\n",
      "documents,household_keys = make_documents(dct)\n",
      "dictionary = corpora.Dictionary(documents)\n",
      "print len(dictionary.keys())"
     ],
     "language": "python",
     "metadata": {},
     "outputs": [
      {
       "output_type": "stream",
       "stream": "stdout",
       "text": [
        "19972\n",
        "1880"
       ]
      },
      {
       "output_type": "stream",
       "stream": "stdout",
       "text": [
        "\n"
       ]
      }
     ],
     "prompt_number": 145
    },
    {
     "cell_type": "code",
     "collapsed": false,
     "input": [
      "corpus = [dictionary.doc2bow(text) for text in documents]"
     ],
     "language": "python",
     "metadata": {},
     "outputs": [],
     "prompt_number": 80
    },
    {
     "cell_type": "code",
     "collapsed": false,
     "input": [],
     "language": "python",
     "metadata": {},
     "outputs": [],
     "prompt_number": 513
    },
    {
     "cell_type": "markdown",
     "metadata": {},
     "source": [
      "## Everything above this line is taken from breadcrumbPipeline LDA\n",
      "- Reusing the conversion functions to get it into the right form "
     ]
    },
    {
     "cell_type": "code",
     "collapsed": false,
     "input": [
      "#Settings\n",
      "\n",
      "T = 400 #Number http://localhost:8888/notebooks/zLabelLDA.ipynb#of topics: must be >= 319 \n",
      "W = len(dictionary.keys()) #vocab size\n",
      "numsamp = 100 #Num samples from Gibbs sampler\n",
      "randseed = 194582 #Random to initialize Gibbs sampler Random number Generator\n",
      "eta = 1\n"
     ],
     "language": "python",
     "metadata": {},
     "outputs": [],
     "prompt_number": 146
    },
    {
     "cell_type": "code",
     "collapsed": false,
     "input": [
      "bcPnames = load_productBC(pdef,breadcrumb_count,hasBreadcrumb,goodBreadcrumbs) #product id to breadcrumb\n",
      "bcPnamesRev = {bcPnames[key][0]:key for key in bcPnames.keys()}#FIX #breadcrumb to product id"
     ],
     "language": "python",
     "metadata": {},
     "outputs": [],
     "prompt_number": 354
    },
    {
     "cell_type": "markdown",
     "metadata": {},
     "source": [
      "#Load all Projects and Create Holdout"
     ]
    },
    {
     "cell_type": "code",
     "collapsed": false,
     "input": [
      "#Load labels\n",
      "\"\"\">>> projects\n",
      "{'22 Paint Hacks, Tips and Tricks': ['Sponges & Scouring Pads|Cleaning Tools & Supplies',\n",
      "  'Primers|Paint',\n",
      "  'Paint Brushes|Paint',\n",
      "\"\"\"\n",
      "projects = {line.split(\"\\t\")[0]:set(line.split(\"\\t\")[1].split(\";\")) for line in open(\"data/projectLabelsConverted.txt\",'r').read().split(\"\\n\") if len(line)>1}\n",
      "allProj = projects.keys()\n",
      "print \"Number of Projects\",len(allProj)\n"
     ],
     "language": "python",
     "metadata": {},
     "outputs": [
      {
       "output_type": "stream",
       "stream": "stdout",
       "text": [
        "Number of Projects 319\n"
       ]
      }
     ],
     "prompt_number": 2
    },
    {
     "cell_type": "code",
     "collapsed": false,
     "input": [
      "def createSubset(allProj,k):\n",
      "    #Shuffles and divides into test and train set\n",
      "    \"\"\" >>> k = 0.25\n",
      "    >>> train, test = createSubset(allProj,0.25)\n",
      "    ['Repairing and Maintaining Fences and Gates','Renewing Your Deck', ...]\n",
      "    >>> print len(train),len(test)\n",
      "    240, 79\n",
      "    \"\"\"\n",
      "    t = np.array([i for i in range(len(allProj))])\n",
      "    random.shuffle(t)\n",
      "    a = np.array(allProj)\n",
      "    return list(a[t[int(len(allProj)*k):]]),list(a[t[:int(len(allProj)*k)]])\n",
      "\n",
      "train,test = createSubset(allProj,0.25)\n",
      "print \"Set T to %s\" % len(train)\n",
      "projectsConversions = {train[i]:i for i in range(len(train))}\n",
      "projectsConversionsRev = {i:train[i] for i in range(len(train))}"
     ],
     "language": "python",
     "metadata": {},
     "outputs": [
      {
       "output_type": "stream",
       "stream": "stdout",
       "text": [
        "Set T to 240\n"
       ]
      }
     ],
     "prompt_number": 559
    },
    {
     "cell_type": "code",
     "collapsed": false,
     "input": [],
     "language": "python",
     "metadata": {},
     "outputs": [],
     "prompt_number": 653
    },
    {
     "cell_type": "markdown",
     "metadata": {},
     "source": [
      "#Converting Project Names to ID #'s"
     ]
    },
    {
     "cell_type": "code",
     "collapsed": false,
     "input": [],
     "language": "python",
     "metadata": {},
     "outputs": [],
     "prompt_number": 450
    },
    {
     "cell_type": "code",
     "collapsed": false,
     "input": [],
     "language": "python",
     "metadata": {},
     "outputs": [],
     "prompt_number": 448
    },
    {
     "cell_type": "markdown",
     "metadata": {},
     "source": [
      "#Create Documents and Z-labels"
     ]
    },
    {
     "cell_type": "code",
     "collapsed": false,
     "input": [
      "def convertLabel(label,projectSubset):\n",
      "    \"\"\" >>> Spreaders|Lawn Care \n",
      "    [107, 140, 185, 187, 190, 192]\n",
      "    >>> projects[allProj[107]]\n",
      "    {'Aerators|Riding Mower & Tractor Attachments',\n",
      " 'Garden Hoses|Watering & Irrigation',\n",
      " 'Spreaders|Lawn Care'}\n",
      "    \"\"\"\n",
      "    if label == \"Adhesives & Tape|Ceiling Tile Tools & Accessories\":\n",
      "        return False\n",
      "    return [i for i in range(len(projectSubset)) if label in projects[projectSubset[i]]]\n",
      "\n",
      "def zlabelDoc(doc,projectSubset):\n",
      "    \"\"\" >>> zlabelDoc(documents[0],projectSubsets) #ignored unless it is in brackets\n",
      "    [0, \n",
      "     [4, 214, 225, 235, 280],\n",
      "     0,\n",
      "     0,\n",
      "    \"\"\"\n",
      "    res = []\n",
      "    for i in doc:\n",
      "        sub = convertLabel(i,projectSubset)\n",
      "        if sub and len(sub) > 0:\n",
      "            res.append(sub)\n",
      "        else:\n",
      "            res.append(0)\n",
      "    return res\n",
      "\n",
      "def createDoc(ex):\n",
      "    # docs must be a Python List of Python lists\n",
      "    # Each individual List contains the indices of word tokens\n",
      "    # (That is, docs[0] = \"w1 w1 w2\", docs[1] = \"w1 w1 w1 w1 w2\", etc) \n",
      "    \"\"\"\n",
      "    >>> corpus = [dictionary.doc2bow(text) for text in documents]\n",
      "    >>> ex = corpus[0][:4]\n",
      "    >>> ex\n",
      "    [(0, 2), (1, 1), (2, 3), (3, 1)]\n",
      "    >>> reduceDoc(ex)\n",
      "    [0, 0, 1, 2, 2, 2, 3]\n",
      "    \"\"\"\n",
      "    return reduce(lambda x,y: x+y,[[i[0]]*i[1] for i in ex])\n",
      "\n",
      "zlabels = [zlabelDoc(doc,train) for doc in documents] #Rerun with a different project subset"
     ],
     "language": "python",
     "metadata": {},
     "outputs": [],
     "prompt_number": 481
    },
    {
     "cell_type": "code",
     "collapsed": false,
     "input": [
      "corpusZLabel = [createDoc(doc) for doc in corpus] #docs "
     ],
     "language": "python",
     "metadata": {},
     "outputs": [],
     "prompt_number": 484
    },
    {
     "cell_type": "code",
     "collapsed": false,
     "input": [],
     "language": "python",
     "metadata": {},
     "outputs": [],
     "prompt_number": 642
    },
    {
     "cell_type": "markdown",
     "metadata": {},
     "source": [
      "#Save items used"
     ]
    },
    {
     "cell_type": "code",
     "collapsed": false,
     "input": [
      "#(phi,theta,sample) = zlabelLDA(corpusZLabel,zlabels,eta,alpha,beta,numsamp,randseed)\n",
      "pickle.dump(corpusZLabel,open(\"zlabelLDA-0.1.2/corpusZLabel.txt\",'w'))\n",
      "pickle.dump(zlabels,open(\"zlabelLDA-0.1.2/zlabels.txt\",'w'))\n",
      "pickle.dump(train,open(\"zlabelLDA-0.1.2/train.txt\",'w'))\n",
      "pickle.dump(test,open(\"zlabelLDA-0.1.2/test.txt\",'w'))"
     ],
     "language": "python",
     "metadata": {},
     "outputs": [],
     "prompt_number": 560
    },
    {
     "cell_type": "code",
     "collapsed": false,
     "input": [
      "pickle.dump(projectsConversionsRev,open(\"zlabelLDA-0.1.2/projectsConversionsRev.txt\",'w'))\n",
      "pickle.dump(projectsConversions,open(\"zlabelLDA-0.1.2/projectsConversions.txt\",'w'))\n",
      "pickle.dump(dictionary,open(\"zlabelLDA-0.1.2/dictionary.txt\",'w'))"
     ],
     "language": "python",
     "metadata": {},
     "outputs": [],
     "prompt_number": 561
    },
    {
     "cell_type": "markdown",
     "metadata": {},
     "source": [
      "#Reload items after running LDA"
     ]
    },
    {
     "cell_type": "markdown",
     "metadata": {},
     "source": [
      "LDA isn't working with anaconda distribution, run separate script"
     ]
    },
    {
     "cell_type": "code",
     "collapsed": false,
     "input": [
      "phi,theta,sample = pickle.load(open('zlabelLDA-0.1.2/phi.txt','r')),pickle.load(open('zlabelLDA-0.1.2/theta.txt','r')),pickle.load(open('zlabelLDA-0.1.2/sample.txt','r'))\n",
      "projectsConversionsRev = pickle.load(open(\"zlabelLDA-0.1.2/projectsConversionsRev.txt\",'r'))\n",
      "projectsConversions = pickle.load(open(\"zlabelLDA-0.1.2/projectsConversions.txt\",'r'))\n",
      "dictionary = pickle.load(open(\"zlabelLDA-0.1.2/dictionary.txt\",'r'))\n",
      "train = pickle.load(open(\"zlabelLDA-0.1.2/train.txt\",'r'))\n",
      "test = pickle.load(open(\"zlabelLDA-0.1.2/test.txt\",'r'))\n"
     ],
     "language": "python",
     "metadata": {},
     "outputs": [],
     "prompt_number": 564
    },
    {
     "cell_type": "markdown",
     "metadata": {},
     "source": [
      "#Print outs (checking to see z-label results)"
     ]
    },
    {
     "cell_type": "code",
     "collapsed": false,
     "input": [
      "# z = hidden topic\n",
      "# phi = dirichlet beta ~ P(w|z) = word | topic\n",
      "# theta = dirichlet alpha ~ P(z|d) = topic | document\n",
      "\n",
      "print \"Theta: %s, Theta[0]: %s, Projects:%s, Phi[0]: %d, Vocab Size: %s, Phi: %d, Sample[0]: %d, Sample: %d, Documents : %d, Documents[0]: %d\" % \\\n",
      "(len(theta),len(theta[0]),len(projects.keys()),len(phi[0]),len(dictionary.keys()),len(documents[0]),len(phi),len(sample),len(documents),len(documents[0]))\n",
      "print \"\\ndocument[0]\",documents[0][:10]\n",
      "print \"\\nsample[0]\",sample[0][:10]\n",
      "print \"\\ntheta[0]\",theta[0][:5] # theta = dirichlet alpha ~ P(z|d)\n",
      "print \"\\nphi[0]\",phi[0][:5] # phi = dirichlet beta ~ P(w|z)"
     ],
     "language": "python",
     "metadata": {},
     "outputs": [
      {
       "output_type": "stream",
       "stream": "stdout",
       "text": [
        "Theta: 19972, Theta[0]: 319, Projects:319, Phi[0]: 1880, Vocab Size: 1880, Phi: 100, Sample[0]: 319, Sample: 19972, Documents : 19972, Documents[0]: 100\n",
        "\n",
        "document[0] ['Small Parts Organizers|Tool Storage', 'Wire Connectors|Electrical Tape & Wire Connectors', 'Screwdrivers & Nut Drivers|Electrical Tools', 'Tool Bags|Tool Storage', 'Moulding|Moulding & Millwork', 'Saw Horses|Tool Storage', 'Corded Routers|Routers', 'Grass Seed|Lawn Care', 'Paint Trays & Liners|Paint Buckets, Tools, Safety & Apparel', 'Paint Buckets & Tools|Paint Buckets, Tools, Safety & Apparel']\n",
        "\n",
        "sample[0] [259, 280, 309, 156, 313, 226, 313, 56, 226, 272]\n",
        "\n",
        "theta[0] [ 0.00075815  0.00075815  0.02350265  0.00075815  0.00075815]\n",
        "\n",
        "phi[0] [  3.95882819e-05   3.95882819e-05   3.95882819e-05   3.95882819e-05\n",
        "   3.95882819e-05]\n"
       ]
      }
     ],
     "prompt_number": 262
    },
    {
     "cell_type": "markdown",
     "metadata": {},
     "source": [
      "##Scoring LDA results"
     ]
    },
    {
     "cell_type": "code",
     "collapsed": false,
     "input": [
      "def getThresholdTopic(phi):\n",
      "    #For each topic, get some measure of the \n",
      "    #lowest probability of a word being present\n",
      "    \"\"\" >>> getTresholdTopic(phi)\n",
      "    array([  3.95882819e-05,   1.08813928e-05,   4.18060201e-05, ...]\n",
      "    \"\"\"\n",
      "    return np.array([np.min(i) for i in phi])\n",
      "\n",
      "def getWordIndex(dictionary,word):\n",
      "    \"\"\"\n",
      "    >>> getWordIndex(dictionary,'Baskets|Pots & Planters')\n",
      "    866\n",
      "    \"\"\"\n",
      "    try:\n",
      "        return dictionary.doc2bow([word])[0][0]\n",
      "    except:\n",
      "        #print word,\"not in dictionary\"\n",
      "        return False\n",
      "        \n",
      "def getThreshold(wordProbs):\n",
      "    #Min probability that a word must be to be in that topic\n",
      "    \"\"\" >>>getThreshold([1.0881392818280741e-05, 1.0881392818280741e-05])\n",
      "    1.0881392818280741e-05\n",
      "    \"\"\"\n",
      "    if len(wordProbs) > 0:\n",
      "        return np.mean(wordProbs)\n",
      "    return 0\n",
      "\n",
      "def getProjectInfo(phi,dictionary,projectsConversionsRev,train):\n",
      "    \"\"\"\n",
      "    >>> projectInfo = getProjectInfo(phi,dictionary,projectsConversionsRev)\n",
      "    >>> projectInfo[1]\n",
      "    ['Storing Summer-Blooming Bulbs',\n",
      "     {'Baskets|Pots & Planters', 'Garden Forks|Gardening Tools'},\n",
      "     [303, 866],\n",
      "     [1.0881392818280741e-05, 1.0881392818280741e-05],\n",
      "     [37,38,\n",
      "     1.0881392818280741e-05]\n",
      "    \"\"\"\n",
      "    dct = {}\n",
      "    missing = []\n",
      "    for i in range(len(train)):\n",
      "        name = projectsConversionsRev[i]\n",
      "        words = projects[name]\n",
      "        wordIndices = [getWordIndex(dictionary,word) for word in words if getWordIndex(dictionary,word)]\n",
      "        if len(wordIndices) <=0:\n",
      "            print name,\" has no items in set\"\n",
      "            #print projects[name]\n",
      "            missing.append(name)\n",
      "        wordProbs = [phi[i][word] for word in wordIndices]\n",
      "        threshold = getThreshold(wordProbs)\n",
      "        includedWords = [word for word in range(len(phi[0])) if phi[i][word] >= thresholdProb]\n",
      "        dct[i] = [name,words,wordIndices,wordProbs,includedWords,threshold]\n",
      "    print \"total with no items %d\" % len(missing)\n",
      "    #thresholdProb = np.mean([projectInfo[key][-1] for key in projectInfo.keys()]) #average threshold\n",
      "    \n",
      "    #for key in dct.keys():\n",
      "    #    includedWords = [i for i in range(len(phi)) if phi[key][i] > thresholdProb]\n",
      "    #    dct[key].append(includedWords)\n",
      "        \n",
      "    return dct,thresholdProb\n",
      "\n",
      "#Use for scoring documents when necessary\n",
      "projectInfo,thresholdProb = getProjectInfo(phi,dictionary,projectsConversionsRev,train)"
     ],
     "language": "python",
     "metadata": {},
     "outputs": [
      {
       "output_type": "stream",
       "stream": "stdout",
       "text": [
        "Faux Painting - Sponging  has no items in set\n",
        "Patching Peeling Paint  has no items in set\n",
        "Mortising a Door Latch Three  has no items in set\n",
        "How To Install a Surveillance System  has no items in set\n",
        "Roll-up Garage Door Maintenance Tips  has no items in set\n",
        "Testing a Light Socket  has no items in set\n",
        "Installing a Gable Fan  has no items in set\n",
        "Assembling and Hanging a Chain-Link Gate  has no items in set\n",
        "Stopping Squeaks in Your Floors and Stairs  has no items in set\n",
        "Adding a Telephone Extension  has no items in set\n",
        "How To Crimp a Connector onto a Cable  has no items in set\n",
        "Preparing Woodwork for Painting  has no items in set\n",
        "Replacing Door Pulls  has no items in set\n",
        "Chalkboard Paint for Your Child's Room  has no items in set\n",
        "Repairing Compression Faucets"
       ]
      },
      {
       "output_type": "stream",
       "stream": "stdout",
       "text": [
        "  has no items in set\n",
        "Staining Windows  has no items in set\n",
        "Repairing Leaky Downspout Joints  has no items in set\n",
        "Holiday Landscape Centerpiece  has no items in set\n",
        "Paint Storage and Disposal  has no items in set\n",
        "Maintaining Your Storm Doors  has no items in set\n",
        "Replacing Hinges  has no items in set\n",
        "How To Install a 60 Watt Solar Power Backup Kit  has no items in set\n",
        "Secure Your Windows  has no items in set\n",
        "Resurfacing Valve Seats"
       ]
      },
      {
       "output_type": "stream",
       "stream": "stdout",
       "text": [
        "  has no items in set\n",
        "Freeing a Sticking Door  has no items in set\n",
        "Weatherproofing Other Window Types  has no items in set\n",
        "Trapeze Lights  has no items in set\n",
        "Replacing a Worn Valve Seat  has no items in set\n",
        "Troubleshooting Your Thermostat  has no items in set\n",
        "Replacing a Screen in an Aluminum Frame  has no items in set\n",
        "How To Install a Home Security System  has no items in set\n",
        "Installing Split-Jamb Interior Doors  has no items in set\n",
        "total with no items 32\n"
       ]
      }
     ],
     "prompt_number": 603
    },
    {
     "cell_type": "code",
     "collapsed": false,
     "input": [
      "#print train"
     ],
     "language": "python",
     "metadata": {},
     "outputs": [],
     "prompt_number": 1
    },
    {
     "cell_type": "code",
     "collapsed": false,
     "input": [
      "def scoreTraining(phi,projectInfo,projectsConversions):\n",
      "    \"\"\"Get f measure of project in result related to the known project in training\"\"\"\n",
      "    allF,wordsGTruth,wordsResults = [],[],[]\n",
      "    for i in range(len(train)):\n",
      "        project = projectInfo[projectsConversions[train[i]]]\n",
      "        f = f_score(set(project[2]),set(project[-2]))\n",
      "        allF.append(f)\n",
      "        wordsGTruth.append(project[2])\n",
      "        wordsResults.append(project[-2])\n",
      "    return allF,wordsGTruth,wordsResults\n",
      "\n",
      "def scoreTest(phi,projectInfo,projectsConversions):\n",
      "    #For each project in results, find closest match in test set\n",
      "    res = []\n",
      "    for i in range(len(train),len(phi[0])):\n",
      "        f_scores = []\n",
      "        for proj in projectInfo.keys():\n",
      "            project = projectInfo[proj]\n",
      "            f_scores.append((proj,f_score(set(project[2]),set(project[-2]))))\n",
      "        res.append(f_scores)\n",
      "    return res\n",
      "\n",
      "def precision(groundtruth,results):\n",
      "    return len(list(groundtruth & results))/len(list(results)) if len(list(results)) != 0 else len(list(results))\n",
      "\n",
      "def recall(groundtruth,results):\n",
      "    return len(list(groundtruth & results))/len(list(groundtruth)) if len(list(groundtruth)) != 0 else len(list(groundtruth))\n",
      "\n",
      "def f_score(groundtruth,results):\n",
      "    #harmonic mean\n",
      "    \"\"\" >>> f_score(set([1,2]),set([1,2,5]))\n",
      "    0.8\n",
      "    \"\"\"\n",
      "    p,r = precision(groundtruth,results),recall(groundtruth,results)\n",
      "    if (p + r) == 0:\n",
      "        return 0\n",
      "    return 2*((p*r)/(p+r))\n",
      "\n",
      "allF,wordsGTruth,wordsResults = scoreTraining(phi,projectInfo,projectsConversions)"
     ],
     "language": "python",
     "metadata": {},
     "outputs": [],
     "prompt_number": 658
    },
    {
     "cell_type": "code",
     "collapsed": false,
     "input": [
      "#Testing why things are going wrong"
     ],
     "language": "python",
     "metadata": {},
     "outputs": [],
     "prompt_number": 641
    },
    {
     "cell_type": "code",
     "collapsed": false,
     "input": [
      "x = 3\n",
      "probs,indices = getTopN(phi[x],10)\n",
      "print [dictionary[i] for i in indices]\n",
      "print phi[x][indices]\n",
      "print train[x]\n",
      "print \"Ground Truth\",projects[train[x]]\n",
      "print \"Ground Truth\",[getWordIndex(dictionary,word) for word in projects[train[x]]]"
     ],
     "language": "python",
     "metadata": {},
     "outputs": [
      {
       "output_type": "stream",
       "stream": "stdout",
       "text": [
        "[u'Pulls & Pull Chains|Ceiling Fan Accessories', u'Ceiling Fans|Ceiling Fans & Accessories', u'Light Kits|Ceiling Fan Accessories', u'Hardware & Accessories|Ceiling Fan Accessories', u'Hand Showers|Shower Heads & Hand Showers', u'CFL Light Bulbs|Light Bulbs', u'Lamp Accessories|Lamp Parts & Accessories', u'Step Stools|Ladders', u'Fluorescent Bulbs|Light Bulbs', u'Lever Handlesets|Handlesets']\n",
        "[ 0.37916509  0.06759013  0.05203036  0.04178368  0.03267552  0.0254649\n",
        "  0.01863378  0.01825427  0.01597723  0.01370019]\n",
        "Framing a Pre-hung Interior Door\n",
        "Ground Truth set(['Plumb Bobs|Marking & Layout tools', 'Nails|Fasteners', 'Hammers|Hand Tools', 'Tape Measures|Measuring Tools', 'Framing Lumber & Studs|Lumber & Composites', 'Writing Utensils|Marking & Layout tools'])\n",
        "Ground Truth [1594, False, False, 356, False, 75]\n"
       ]
      }
     ],
     "prompt_number": 657
    },
    {
     "cell_type": "code",
     "collapsed": false,
     "input": [],
     "language": "python",
     "metadata": {},
     "outputs": [],
     "prompt_number": 655
    },
    {
     "cell_type": "code",
     "collapsed": false,
     "input": [
      "for i in zip(wordsGTruth[:10],wordsResults[:10]):\n",
      "    print i"
     ],
     "language": "python",
     "metadata": {},
     "outputs": [
      {
       "output_type": "stream",
       "stream": "stdout",
       "text": [
        "([293], [37, 38, 40, 80, 132, 145, 167, 174, 175, 213, 261, 290, 389, 392, 426, 526, 575, 675, 686, 1018])\n",
        "([375, 141], [4, 11, 19, 22, 27, 30, 32, 37, 38, 40, 41, 56, 64, 71, 73, 80, 94, 100, 103, 105, 107, 108, 119, 132, 133, 149, 205, 215, 223, 237, 254, 263, 270, 302, 304, 312, 317, 327, 333, 336, 338, 369, 374, 396, 407, 428, 442, 443, 445, 493, 498, 499, 502, 532, 541, 614, 694, 699, 857, 1144])\n",
        "([1252, 389, 26, 356, 283], [2, 3, 4, 15, 19, 27, 29, 30, 35, 38, 41, 60, 62, 73, 87, 94, 105, 146, 191, 215, 233, 314, 326, 333, 338, 396, 407, 417, 420, 432, 443, 541, 588, 694, 731, 732, 774, 981, 1034, 1088, 1199])\n",
        "([1594, 356, 75], [3, 8, 11, 15, 29, 37, 56, 60, 103, 107, 119, 132, 133, 139, 175, 226, 231, 240, 248, 251, 265, 266, 287, 307, 316, 363, 383, 406, 424, 515, 535, 549, 560, 577, 604, 654, 726, 822, 961, 1156, 1199, 1204])\n",
        "([356, 141, 219], [29, 34, 54, 62, 63, 137, 144, 171, 213, 306, 332, 384, 432, 515, 533, 572, 586, 618, 642, 740, 1163, 1172, 1393])\n",
        "([19], [0, 4, 26, 33, 65, 97, 100, 107, 117, 150, 182, 187, 192, 202, 203, 204, 223, 227, 281, 285, 307, 308, 328, 338, 358, 382, 390, 405, 412, 416, 422, 427, 433, 439, 452, 453, 456, 468, 471, 510, 524, 549, 580, 617, 631, 633, 646, 674, 714, 813, 890, 995, 997, 1006, 1065, 1106, 1247, 1293, 1314, 1351, 1414])\n",
        "([974, 19], [4, 11, 20, 23, 29, 56, 60, 62, 100, 104, 107, 132, 133, 137, 144, 160, 209, 215, 255, 260, 304, 307, 333, 386, 387, 423, 532, 629, 645, 662, 938, 953, 961, 1402])\n",
        "([215, 219, 92, 124, 162, 1, 218, 529, 1509, 448], [2, 4, 19, 27, 29, 35, 37, 40, 56, 71, 73, 75, 80, 87, 94, 96, 100, 108, 120, 132, 144, 145, 163, 167, 171, 194, 203, 209, 215, 222, 225, 227, 233, 285, 298, 305, 317, 318, 327, 335, 363, 365, 390, 396, 419, 422, 468, 476, 492, 498, 525, 527, 538, 580, 590, 625, 707, 874, 972, 1293])\n",
        "([833, 615, 260, 218, 215, 328], [11, 133, 142, 174, 186, 203, 340, 448, 465, 476, 983, 1280])\n",
        "([459], [4, 6, 13, 19, 37, 38, 39, 41, 56, 61, 62, 63, 70, 71, 74, 80, 86, 88, 94, 96, 100, 105, 107, 108, 126, 130, 132, 133, 134, 136, 140, 146, 147, 149, 150, 154, 167, 182, 184, 186, 202, 204, 209, 213, 215, 227, 232, 260, 285, 293, 314, 323, 327, 350, 358, 369, 377, 382, 383, 385, 431, 475, 511, 525, 532, 562, 595, 662, 731, 760, 830, 833, 835, 935, 995, 1254, 1541])\n"
       ]
      }
     ],
     "prompt_number": 616
    },
    {
     "cell_type": "code",
     "collapsed": false,
     "input": [
      "# phi = dirichlet beta ~ P(w|z) = word | topic\n",
      "# theta = dirichlet alpha ~ P(z|d) = topic | document\n",
      "\n",
      "def score(document):\n",
      "    return \n",
      "\n",
      "len(phi),len(phi[0])\n",
      "print phi[0],train[0]"
     ],
     "language": "python",
     "metadata": {},
     "outputs": [
      {
       "output_type": "stream",
       "stream": "stdout",
       "text": [
        "[  2.37699073e-05   7.39244117e-03   2.37699073e-05 ...,   2.37699073e-05\n",
        "   2.37699073e-05   2.37699073e-05] Container Planting Basics\n"
       ]
      }
     ],
     "prompt_number": 503
    },
    {
     "cell_type": "code",
     "collapsed": false,
     "input": [
      "def getTopN(a,n):\n",
      "    \"\"\" \n",
      "    >>> a = np.array([9, 4, 4, 3, 3, 9, 0, 4, 6, 0])\n",
      "    >>> getTopN(a,4) #returns elements, indices\n",
      "    array([9, 9, 6, 4]),array([5, 0, 8, 7]))\n",
      "    \"\"\"\n",
      "    indices = a.argsort()[-n:][::-1] \n",
      "    return a[indices],indices"
     ],
     "language": "python",
     "metadata": {},
     "outputs": [],
     "prompt_number": 306
    },
    {
     "cell_type": "code",
     "collapsed": false,
     "input": [],
     "language": "python",
     "metadata": {},
     "outputs": [],
     "prompt_number": 306
    },
    {
     "cell_type": "code",
     "collapsed": false,
     "input": [],
     "language": "python",
     "metadata": {},
     "outputs": []
    },
    {
     "cell_type": "code",
     "collapsed": false,
     "input": [],
     "language": "python",
     "metadata": {},
     "outputs": []
    }
   ],
   "metadata": {}
  }
 ]
}