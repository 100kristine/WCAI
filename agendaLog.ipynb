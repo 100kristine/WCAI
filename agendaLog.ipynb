{
 "metadata": {
  "name": "",
  "signature": "sha256:55a52ac205ad5c0c4ecd68723b2e30422edc1d1bdd5d529cfd871db566c4fda5"
 },
 "nbformat": 3,
 "nbformat_minor": 0,
 "worksheets": [
  {
   "cells": [
    {
     "cell_type": "code",
     "collapsed": false,
     "input": [
      "#1**. Reduce Redundancy:  use at convenience items level - subclass together drinks, chips, etc, rental charges, damage waivers (etc) - anything that\n",
      "    #for each item_subclass (with no alphanumeric) - column D is all numbers, remove/subclass these\n",
      "\n",
      "#2***. Use sliding time window (5 days) or so to narrow down which baskets can be \"counted\" as being relevant to a topic.\n",
      "\n",
      "#3. How many items total for that household are in that cluster? (some might be grouped just due to coincidence)\n",
      "\n",
      "#Things to look for:     \n",
      "    # Cluster purity - why are there none in the upper right corner?\n",
      "    # Use probability provided by LDA as a weighting function? (measure # of highly distinguishing items)\n",
      "\n",
      "#4****. Do frequent itemsets analysis as well? - window size = 0 (projects based only on what people buy at once)\n",
      "\n",
      "#5. Check out Zaki (sequential mining) - code is online, check this out.\n",
      "\n",
      "#6. *****!!! Item class description - \"Tile Set Materials and Tools\" (column F) - check cluster goodness - \n",
      "#make toy cluster of tile sets, and check out the graph for that toy cluster (compare to others) - subclassed into adhesives and tools\n",
      "#\"Wall and Floor Covering\" [ pull out ONLY the tiles, not wood panels, etc, use that subclass] - \n",
      "#also search through existing clusters \n",
      "\n",
      "#pull out -\n",
      "#7 Check in with - toy clusters in word doc, ie DIY Network projects. \n",
      "#(try item group description and subclasses, etc to find these materials)\n"
     ],
     "language": "python",
     "metadata": {},
     "outputs": [],
     "prompt_number": 1
    },
    {
     "cell_type": "code",
     "collapsed": false,
     "input": [],
     "language": "python",
     "metadata": {},
     "outputs": []
    }
   ],
   "metadata": {}
  }
 ]
}