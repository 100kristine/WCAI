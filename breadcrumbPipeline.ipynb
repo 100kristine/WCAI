{
 "metadata": {
  "name": "",
  "signature": "sha256:b4d8733c1d9a6526b8c94cb273686c117097d34c3c65c0882271c56602386b87"
 },
 "nbformat": 3,
 "nbformat_minor": 0,
 "worksheets": [
  {
   "cells": [
    {
     "cell_type": "code",
     "collapsed": false,
     "input": [
      "#1. Try LDA with multiple breadcrumbs\n",
      "# For items with multiple breadcrumbs\n",
      "# Ignore items without breadcrumbs for now\n",
      "#2.Try Frequent itemsets\n",
      "#3. Generalize pipeline to take different metrics and visualize (different metrics)\n",
      "from gensim import corpora\n",
      "import gensim,re,sqlite3"
     ],
     "language": "python",
     "metadata": {},
     "outputs": [],
     "prompt_number": 27
    },
    {
     "cell_type": "markdown",
     "metadata": {},
     "source": [
      "## LDA Pipeline\n",
      "1. Load market baskets\n",
      "2. For each item, convert from the product id to the OMS id.\n",
      "    Check for each case:\n",
      "    - One to one product_Id : breadcrumb, just convert\n",
      "    - One id : multiple breadcrumbs: choose the breadcrumb with the highest \n",
      "    frequency\n",
      "    - One id : no breadcrumbs : ignore for now \n",
      "    For each item in a basket:\n",
      "        check what type it is\n",
      "    \n",
      "3.Run through LDA pipeline\n",
      "    - \n"
     ]
    },
    {
     "cell_type": "code",
     "collapsed": false,
     "input": [
      "%run 'reusableFunctions.ipynb'"
     ],
     "language": "python",
     "metadata": {},
     "outputs": [],
     "prompt_number": 37
    },
    {
     "cell_type": "code",
     "collapsed": false,
     "input": [
      "%run 'descriptive_statistics_breadcrumb.ipynb'"
     ],
     "language": "python",
     "metadata": {},
     "outputs": [
      {
       "output_type": "stream",
       "stream": "stdout",
       "text": [
        "Total Lines: 115790\n",
        "Total Ids, no duplicates: 49784\n",
        "Total duplicated ids: 66006\n",
        "Duplicated ids, same breadcrumb: 20331\n",
        "Duplicated ids, removed: 45675\n"
       ]
      }
     ],
     "prompt_number": 50
    },
    {
     "cell_type": "code",
     "collapsed": false,
     "input": [
      "bc = loadBreadCrumb() #loads lines, no filtering\n",
      "pnames = load_product(pdef,consolidate=False,skip=False) #loads product id convers, no filtering"
     ],
     "language": "python",
     "metadata": {},
     "outputs": [],
     "prompt_number": 30
    },
    {
     "cell_type": "markdown",
     "metadata": {},
     "source": [
      "- Any items with duplicate OMS ids will not have an id in id_to_oms.\n",
      "- filterProducts() returns \n",
      "\n",
      "    -- ids(all product ids),\n",
      "    \n",
      "    -- mapping(all one to one bc product id {'2236797': 'Corner Braces&Builders Hardware', '825674': 'Screw Eyes&Metal Hooks & Eyes'})\n",
      "    \n",
      "    -- breadcrumb_count({id: [all possible breadcrumbs]})\n",
      "- Compare_breadcrumb_product() returns p_ids(all possible product ids, no filtering), no_bc(items with no breadcrumb) and items with ids\n",
      "\n",
      "- purchase_frequency_bc : {'55316': 2567, '28246': 2552,...}\n"
     ]
    },
    {
     "cell_type": "code",
     "collapsed": false,
     "input": [
      "id_to_oms = product_id_to_oms()\n",
      "p_ids,no_bc,bc_ids = compare_breadcrumb_product(breadcrumb_count)\n",
      "purchase_frequency,purchase_frequency_nobc,purchase_frequency_bc = getPurchaseFrequency(no_bc,f=all_purchases,directory=d) # counts of each product id"
     ],
     "language": "python",
     "metadata": {},
     "outputs": [
      {
       "output_type": "stream",
       "stream": "stdout",
       "text": [
        "IDs with breadcrumbs 49784\n",
        "Total product ids 111916\n",
        "Total bc ids 49784\n"
       ]
      }
     ],
     "prompt_number": 51
    },
    {
     "cell_type": "code",
     "collapsed": false,
     "input": [
      "#ids = set of unique ids in check/out files\n",
      "#Mapping = {product_id:}\n",
      "#Breadcrumb_count = {id: [breadcrumb1, breadcrumb2, breadcrumb3... duplicates]}\n",
      "ids,mapping,breadcrumb_count = filterProducts()\n",
      "\n",
      "#Write results of duplicate ids. Much the same as items_with_breadcrumbProblem.txt\n",
      "with open('data/breadcrumb_allduplicates.txt','w') as f: #breadcrumb_count isn't filtered\n",
      "    for key in breadcrumb_count.keys():\n",
      "        if len(breadcrumb_count[key]) > 1:\n",
      "            f.writelines(str(key)+\"\\t\".join(breadcrumb_count[key])+'\\n')\n",
      "            f.writelines(\"\\n\")"
     ],
     "language": "python",
     "metadata": {},
     "outputs": [
      {
       "output_type": "stream",
       "stream": "stdout",
       "text": [
        "Total Lines: 115790\n",
        "Total Ids, no duplicates: 49784\n",
        "Total duplicated ids: 66006\n",
        "Duplicated ids, same breadcrumb: 20331\n",
        "Duplicated ids, removed: 45675\n"
       ]
      }
     ],
     "prompt_number": 45
    },
    {
     "cell_type": "code",
     "collapsed": false,
     "input": [
      "len(breadcrumb_count.keys())"
     ],
     "language": "python",
     "metadata": {},
     "outputs": [
      {
       "metadata": {},
       "output_type": "pyout",
       "prompt_number": 52,
       "text": [
        "49784"
       ]
      }
     ],
     "prompt_number": 52
    },
    {
     "cell_type": "code",
     "collapsed": false,
     "input": [
      "breadcrumb_count['2236797'] \n",
      "\n",
      "\"\"\"#[product_id : '['13863',\n",
      "  '2236797',\n",
      "  '\"4\"\" CORNER BRACE STAINLESS STEEL 4PK\"',\n",
      "  'http://www.homedepot.com/p/4-in-Stainless-Steel-Corner-Braces-4-Pack-14559/203339962?keyword=203339962',\n",
      "  'Corner Braces',\n",
      "  'Builders Hardware',\n",
      "  'Building Materials\\n']',['13863',\n",
      "  '2236797',\n",
      "  '\"4\"\" CORNER BRACE STAINLESS STEEL 4PK\"',\n",
      "  'http://www.homedepot.com/p/4-in-Stainless-Steel-Corner-Braces-4-Pack-14559/203339962?keyword=203339962',\n",
      "  'Corner Braces',\n",
      "  'Builders Hardware',\n",
      "  'Building Materials\\n']]\n",
      "  \"\"\""
     ],
     "language": "python",
     "metadata": {},
     "outputs": [
      {
       "metadata": {},
       "output_type": "pyout",
       "prompt_number": 54,
       "text": [
        "'#[product_id : \\'[\\'13863\\',\\n  \\'2236797\\',\\n  \\'\"4\"\" CORNER BRACE STAINLESS STEEL 4PK\"\\',\\n  \\'http://www.homedepot.com/p/4-in-Stainless-Steel-Corner-Braces-4-Pack-14559/203339962?keyword=203339962\\',\\n  \\'Corner Braces\\',\\n  \\'Builders Hardware\\',\\n  \\'Building Materials\\n\\']\\',[\\'13863\\',\\n  \\'2236797\\',\\n  \\'\"4\"\" CORNER BRACE STAINLESS STEEL 4PK\"\\',\\n  \\'http://www.homedepot.com/p/4-in-Stainless-Steel-Corner-Braces-4-Pack-14559/203339962?keyword=203339962\\',\\n  \\'Corner Braces\\',\\n  \\'Builders Hardware\\',\\n  \\'Building Materials\\n\\']]\\n  '"
       ]
      }
     ],
     "prompt_number": 54
    },
    {
     "cell_type": "markdown",
     "metadata": {},
     "source": [
      "##Make sets to deal with breadcrumb (missing or more than one)"
     ]
    },
    {
     "cell_type": "code",
     "collapsed": false,
     "input": [
      "\n",
      "\n",
      "\n",
      "hasBreadcrumb = set(breadcrumb_count.keys())\n",
      "goodBreadcrumbs = breadcrumbsToKeep(breadcrumb_count) #one to one product idsx\n",
      "baskets = getMarketBasketDct(d,all_purchases,byDate=False,noTime=True) #{household:[items]}"
     ],
     "language": "python",
     "metadata": {},
     "outputs": [
      {
       "output_type": "stream",
       "stream": "stdout",
       "text": [
        "No Match: unrelated breadcrumbs, 592 Rolled up Successful, 4928 total, 49784\n"
       ]
      }
     ],
     "prompt_number": 79
    },
    {
     "cell_type": "code",
     "collapsed": false,
     "input": [],
     "language": "python",
     "metadata": {},
     "outputs": [],
     "prompt_number": 78
    },
    {
     "cell_type": "markdown",
     "metadata": {},
     "source": [
      "#Writing results of which sets are missing a breadcrumb"
     ]
    },
    {
     "cell_type": "code",
     "collapsed": false,
     "input": [
      "with open('data/items_with_breadcrumbProblem.txt','w') as f:\n",
      "    for key in breadcrumb_count.keys():\n",
      "        if len(set(breadcrumb_count[key])) > 1:\n",
      "            f.writelines(str(key) + \"\\tMultiple IDs\\t\"+\"|\".join(breadcrumb_count[key])+\"\\n\")\n",
      "        if len(set(breadcrumb_count[key])) == 0:\n",
      "            f.writelines(str(key)+\"\\tMissingID\\n\")"
     ],
     "language": "python",
     "metadata": {},
     "outputs": [],
     "prompt_number": 33
    },
    {
     "cell_type": "code",
     "collapsed": false,
     "input": [
      "def singleBreadcrumbFrequency(baskets,oneBreadcrumb,breadcrumb_count):\n",
      "    # {breadcrumb: total frequency in items in marketBaskets}\n",
      "    c = Counter()\n",
      "    for household in baskets.keys():\n",
      "        for item in baskets[household]:\n",
      "            if item in oneBreadcrumb:\n",
      "                c[breadcrumb_count[item][0]] +=1\n",
      "    return c\n",
      "singleBCFreq = singleBreadcrumbFrequency(baskets,oneBreadcrumb,breadcrumb_count)"
     ],
     "language": "python",
     "metadata": {},
     "outputs": [],
     "prompt_number": 39
    },
    {
     "cell_type": "code",
     "collapsed": false,
     "input": [
      "#This contains the rolled up categories\n",
      "\"\"\">>> pnamesBC[825674]\n",
      "'Screw Eyes&Metal Hooks & Eyes'\n",
      "\"\"\"\n",
      "pnamesBC = load_productBC(pdef,singleBCFreq,breadcrumb_count,hasBreadcrumb)"
     ],
     "language": "python",
     "metadata": {},
     "outputs": [],
     "prompt_number": 40
    },
    {
     "cell_type": "markdown",
     "metadata": {},
     "source": [
      "##Save Breadcrumb Conversions (DO NOT RERUN): IGNORE CELL"
     ]
    },
    {
     "cell_type": "code",
     "collapsed": false,
     "input": [
      "#Currently does not do anything for the item ids without a label\n",
      "\"CREATE TABLE IF NOT EXISTS 'breadcrumb' ('itemid' varchar,'rollup' varchar)\"\n",
      "#conn = sqlite3.connect('line_item_purchase/itemTable.db',timeout=1)\n",
      "#c = conn.cursor()\n",
      "#entries = [(pnamesBC[key],key) for key in pnamesBC.keys()]\n",
      "#c.executemany(\"INSERT INTO 'breadcrumb' VALUES (?,?)\",entries)\n",
      "#conn.commit()"
     ],
     "language": "python",
     "metadata": {},
     "outputs": [
      {
       "metadata": {},
       "output_type": "pyout",
       "prompt_number": 1,
       "text": [
        "\"CREATE TABLE IF NOT EXISTS 'breadcrumb' ('itemid' varchar,'rollup' varchar)\""
       ]
      }
     ],
     "prompt_number": 1
    },
    {
     "cell_type": "code",
     "collapsed": false,
     "input": [],
     "language": "python",
     "metadata": {},
     "outputs": [],
     "prompt_number": 17
    },
    {
     "cell_type": "markdown",
     "metadata": {},
     "source": [
      "##Convert baskets"
     ]
    },
    {
     "cell_type": "code",
     "collapsed": false,
     "input": [
      "#def convertBasket(basket,singleBCFreq,breadcrumb_count):\n",
      "#    #Checks if no breadcrumb is present, then if multiple\n",
      "#    converted = []\n",
      "#    for item in [i for i in basket if i in hasBreadcrumb]:\n",
      "#        if item in oneBreadcrumb:\n",
      "#            converted.append(breadcrumb_count[item][0])\n",
      "#        else:\n",
      "#            frequencies = [singleBCFreq[bc] for bc in breadcrumb_count[item]]\n",
      "#            converted.append(breadcrumb_count[item][frequencies.index(max(frequencies))])\n",
      "#    return converted\n",
      "\n",
      "def convertBaskets(pdef,baskets,singleBCFreq,breadcrumb_count,hasBreadcrumb):    \n",
      "    converted = defaultdict()\n",
      "    pnames = load_productBC(pdef,singleBCFreq,breadcrumb_count,hasBreadcrumb)\n",
      "    keys = set(pnames.keys())\n",
      "    for household in baskets.keys():\n",
      "        basket = [pnames[item] for item in baskets[household] if item in keys]#convertBasket(baskets[household],singleBCFreq,breadcrumb_count)\n",
      "        if len(basket) > 0:\n",
      "            converted[household] = basket\n",
      "    return converted \n",
      "\n",
      "convertedBC = convertBaskets(pdef,baskets,singleBCFreq,breadcrumb_count,hasBreadcrumb)"
     ],
     "language": "python",
     "metadata": {},
     "outputs": [],
     "prompt_number": 16
    },
    {
     "cell_type": "code",
     "collapsed": false,
     "input": [],
     "language": "python",
     "metadata": {},
     "outputs": []
    },
    {
     "cell_type": "code",
     "collapsed": false,
     "input": [
      "def runBreadCrumbLDA(pdef,baskets,singleBCFreq,breadcrumb_count,hasBreadcrumb):\n",
      "    #load market baskets and convert the names\n",
      "    dct = convertBaskets(pdef,baskets,singleBCFreq,breadcrumb_count,hasBreadcrumb)\n",
      "    documents,household_keys = make_documents(dct)\n",
      "    dictionary = corpora.Dictionary(documents)\n",
      "    corpus = [dictionary.doc2bow(text) for text in documents]\n",
      "    return runLDA(corpus,dictionary,560,chunksize=2000,passes=10)"
     ],
     "language": "python",
     "metadata": {},
     "outputs": [],
     "prompt_number": 39
    },
    {
     "cell_type": "code",
     "collapsed": false,
     "input": [
      "runBreadCrumbLDA(pdef,baskets,singleBCFreq,breadcrumb_count,hasBreadcrumb)"
     ],
     "language": "python",
     "metadata": {},
     "outputs": [
      {
       "output_type": "stream",
       "stream": "stdout",
       "text": [
        "19982\n"
       ]
      },
      {
       "metadata": {},
       "output_type": "pyout",
       "prompt_number": 40,
       "text": [
        "<gensim.models.ldamodel.LdaModel at 0x110172e10>"
       ]
      }
     ],
     "prompt_number": 40
    },
    {
     "cell_type": "markdown",
     "metadata": {},
     "source": [
      "## Association Rules\n",
      "- Regroup marketbaskets into 7 day windows\n",
      "- Run association rule code"
     ]
    },
    {
     "cell_type": "code",
     "collapsed": false,
     "input": [
      "%run associationRules.ipynb"
     ],
     "language": "python",
     "metadata": {},
     "outputs": [
      {
       "output_type": "stream",
       "stream": "stdout",
       "text": [
        "|C1| = 1870\n",
        "|L1| = 1376\n",
        "|C2| = 351782"
       ]
      },
      {
       "output_type": "stream",
       "stream": "stdout",
       "text": [
        "\n",
        "|L2| = 13538"
       ]
      },
      {
       "output_type": "stream",
       "stream": "stdout",
       "text": [
        "\n",
        "|C3| = 200255"
       ]
      },
      {
       "output_type": "stream",
       "stream": "stdout",
       "text": [
        "\n",
        "|L3| = 6654\n",
        "Time spent finding frequent itemsets = 8.44 seconds.\n",
        "Time spent finding association rules = 0.43 second."
       ]
      },
      {
       "output_type": "stream",
       "stream": "stdout",
       "text": [
        "\n"
       ]
      }
     ],
     "prompt_number": 6
    },
    {
     "cell_type": "code",
     "collapsed": false,
     "input": [
      "pnamesBC = load_productBC(pdef,singleBCFreq,breadcrumb_count,hasBreadcrumb)"
     ],
     "language": "python",
     "metadata": {},
     "outputs": [],
     "prompt_number": 18
    },
    {
     "cell_type": "code",
     "collapsed": false,
     "input": [
      "basketsTime = getMarketBasketDct(d,all_purchases,byDate=True,noTime=True) #{household:[items]}"
     ],
     "language": "python",
     "metadata": {},
     "outputs": [],
     "prompt_number": 19
    },
    {
     "cell_type": "code",
     "collapsed": false,
     "input": [
      "def sevendaybaskets(baskets):\n",
      "    \"\"\"Create list of 7 day baskets with rolled up\n",
      "    categorie and write to file. [set(['Blades & Sharpeners&Replacement Engines & Parts', 'Grass Seed&Lawn Care', 'Trimmer & Edger Accessories&Trimmers & Edgers']),\n",
      "    \"\"\"\n",
      "    textfile = open('7daybaskets_breadcrumb.txt','w') \n",
      "    for household in baskets.keys():\n",
      "        items = getBaskets(getWindows(baskets,household),baskets,household,pnamesBC,BC=True)\n",
      "        for item in items:\n",
      "            textfile.writelines(\"\\t\".join(list(item))+\"\\n\")\n",
      "    return\n",
      "\n",
      "#sevendaybaskets(basketsTime)\n",
      "text = main(\"7daybaskets_breadcrumb.txt\")"
     ],
     "language": "python",
     "metadata": {},
     "outputs": [
      {
       "output_type": "stream",
       "stream": "stdout",
       "text": [
        "|C1| = 1870\n",
        "|L1| = 1376\n",
        "|C2| = 351782"
       ]
      },
      {
       "output_type": "stream",
       "stream": "stdout",
       "text": [
        "\n",
        "|L2| = 13538"
       ]
      },
      {
       "output_type": "stream",
       "stream": "stdout",
       "text": [
        "\n",
        "|C3| = 200255"
       ]
      },
      {
       "output_type": "stream",
       "stream": "stdout",
       "text": [
        "\n",
        "|L3| = 6654\n",
        "Time spent finding frequent itemsets = 8.29 seconds.\n",
        "Time spent finding association rules = 0.43 second."
       ]
      },
      {
       "output_type": "stream",
       "stream": "stdout",
       "text": [
        "\n"
       ]
      }
     ],
     "prompt_number": 20
    },
    {
     "cell_type": "markdown",
     "metadata": {},
     "source": [
      "## Run check on LDA to evaluate how well clustering went"
     ]
    },
    {
     "cell_type": "code",
     "collapsed": false,
     "input": [
      "resultsDir = \"breadcrumb_rolledup1_LDA/\""
     ],
     "language": "python",
     "metadata": {},
     "outputs": [],
     "prompt_number": 26
    },
    {
     "cell_type": "code",
     "collapsed": false,
     "input": [],
     "language": "python",
     "metadata": {},
     "outputs": [],
     "prompt_number": 31
    },
    {
     "cell_type": "code",
     "collapsed": false,
     "input": [
      "ex = loadLDA(\"LDA_530_topics_2000_chunks___10_passes.txt\",resultsDir,getFileInfo(\"LDA_470_topics_2000_chunks___10_passes.txt\"))"
     ],
     "language": "python",
     "metadata": {},
     "outputs": [
      {
       "output_type": "stream",
       "stream": "stdout",
       "text": [
        "470\n"
       ]
      }
     ],
     "prompt_number": 47
    },
    {
     "cell_type": "code",
     "collapsed": false,
     "input": [
      "#f = open('breadcrumbclusters_530.txt','w')\n",
      "#for topic in ex:\n",
      "#    f.writelines(\"\\t\".join(topic)+\"\\n\\n\")\n",
      "    \n",
      "def processMatch(topics,match,func):\n",
      "    #func([item1, item2... in topic],items in cluster) - computes distance\n",
      "    results = []\n",
      "    for topic in topics:\n",
      "        results.append(func(topic,match))\n",
      "    return results"
     ],
     "language": "python",
     "metadata": {},
     "outputs": [],
     "prompt_number": 48
    },
    {
     "cell_type": "code",
     "collapsed": false,
     "input": [
      "#To do:\n",
      "#. Prof lee will give cluster matches\n",
      "# be able to  score\n",
      "# also how to label instances in lda and roll back down?\n",
      "# sort association rules by label too :(\n",
      "#\n",
      "# mtg at 11 next friday"
     ],
     "language": "python",
     "metadata": {},
     "outputs": []
    }
   ],
   "metadata": {}
  }
 ]
}